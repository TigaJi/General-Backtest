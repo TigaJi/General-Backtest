{
 "cells": [
  {
   "cell_type": "code",
   "execution_count": 2,
   "id": "ebd0b66c",
   "metadata": {},
   "outputs": [],
   "source": [
    "from Backtest import Backtest,Position,Bid\n",
    "import matplotlib.pyplot as plt\n",
    "import pandas as pd"
   ]
  },
  {
   "cell_type": "code",
   "execution_count": 3,
   "id": "808a388a",
   "metadata": {},
   "outputs": [
    {
     "data": {
      "text/html": [
       "<div>\n",
       "<style scoped>\n",
       "    .dataframe tbody tr th:only-of-type {\n",
       "        vertical-align: middle;\n",
       "    }\n",
       "\n",
       "    .dataframe tbody tr th {\n",
       "        vertical-align: top;\n",
       "    }\n",
       "\n",
       "    .dataframe thead th {\n",
       "        text-align: right;\n",
       "    }\n",
       "</style>\n",
       "<table border=\"1\" class=\"dataframe\">\n",
       "  <thead>\n",
       "    <tr style=\"text-align: right;\">\n",
       "      <th></th>\n",
       "      <th>cat</th>\n",
       "      <th>mcd</th>\n",
       "      <th>etsy</th>\n",
       "      <th>twtr</th>\n",
       "      <th>kmi</th>\n",
       "      <th>gme</th>\n",
       "      <th>celg</th>\n",
       "      <th>wdc</th>\n",
       "      <th>ups</th>\n",
       "      <th>nflx</th>\n",
       "      <th>...</th>\n",
       "      <th>ms</th>\n",
       "      <th>abt</th>\n",
       "      <th>jpm</th>\n",
       "      <th>lb</th>\n",
       "      <th>rad</th>\n",
       "      <th>bbby</th>\n",
       "      <th>nvda</th>\n",
       "      <th>biib</th>\n",
       "      <th>aal</th>\n",
       "      <th>vz</th>\n",
       "    </tr>\n",
       "  </thead>\n",
       "  <tbody>\n",
       "    <tr>\n",
       "      <th>2019-04-05 09:30:00</th>\n",
       "      <td>133.561</td>\n",
       "      <td>182.697</td>\n",
       "      <td>68.54</td>\n",
       "      <td>34.6301</td>\n",
       "      <td>17.8967</td>\n",
       "      <td>9.9000</td>\n",
       "      <td>94.2100</td>\n",
       "      <td>49.8244</td>\n",
       "      <td>107.836</td>\n",
       "      <td>369.111</td>\n",
       "      <td>...</td>\n",
       "      <td>42.9067</td>\n",
       "      <td>76.4354</td>\n",
       "      <td>99.8698</td>\n",
       "      <td>26.1864</td>\n",
       "      <td>11.196</td>\n",
       "      <td>17.0190</td>\n",
       "      <td>189.751</td>\n",
       "      <td>236.020</td>\n",
       "      <td>33.7574</td>\n",
       "      <td>54.2369</td>\n",
       "    </tr>\n",
       "    <tr>\n",
       "      <th>2019-04-05 09:31:00</th>\n",
       "      <td>133.400</td>\n",
       "      <td>182.908</td>\n",
       "      <td>68.49</td>\n",
       "      <td>34.5500</td>\n",
       "      <td>17.9057</td>\n",
       "      <td>9.8900</td>\n",
       "      <td>94.2500</td>\n",
       "      <td>49.8920</td>\n",
       "      <td>107.873</td>\n",
       "      <td>367.880</td>\n",
       "      <td>...</td>\n",
       "      <td>42.8782</td>\n",
       "      <td>76.4257</td>\n",
       "      <td>99.9170</td>\n",
       "      <td>26.2429</td>\n",
       "      <td>11.168</td>\n",
       "      <td>16.8594</td>\n",
       "      <td>189.492</td>\n",
       "      <td>235.786</td>\n",
       "      <td>33.8956</td>\n",
       "      <td>54.1446</td>\n",
       "    </tr>\n",
       "    <tr>\n",
       "      <th>2019-04-05 09:32:00</th>\n",
       "      <td>133.726</td>\n",
       "      <td>182.678</td>\n",
       "      <td>68.59</td>\n",
       "      <td>34.5170</td>\n",
       "      <td>17.9282</td>\n",
       "      <td>9.9000</td>\n",
       "      <td>94.3162</td>\n",
       "      <td>49.9269</td>\n",
       "      <td>108.143</td>\n",
       "      <td>367.810</td>\n",
       "      <td>...</td>\n",
       "      <td>43.0824</td>\n",
       "      <td>76.2125</td>\n",
       "      <td>100.1200</td>\n",
       "      <td>26.2476</td>\n",
       "      <td>11.060</td>\n",
       "      <td>16.8125</td>\n",
       "      <td>189.553</td>\n",
       "      <td>236.353</td>\n",
       "      <td>33.8956</td>\n",
       "      <td>54.1597</td>\n",
       "    </tr>\n",
       "    <tr>\n",
       "      <th>2019-04-05 09:33:00</th>\n",
       "      <td>133.554</td>\n",
       "      <td>182.448</td>\n",
       "      <td>68.51</td>\n",
       "      <td>34.5000</td>\n",
       "      <td>17.8966</td>\n",
       "      <td>9.9900</td>\n",
       "      <td>94.3700</td>\n",
       "      <td>50.1188</td>\n",
       "      <td>107.940</td>\n",
       "      <td>367.539</td>\n",
       "      <td>...</td>\n",
       "      <td>42.9162</td>\n",
       "      <td>76.0866</td>\n",
       "      <td>99.7659</td>\n",
       "      <td>26.2523</td>\n",
       "      <td>11.020</td>\n",
       "      <td>16.8219</td>\n",
       "      <td>189.144</td>\n",
       "      <td>236.300</td>\n",
       "      <td>33.8614</td>\n",
       "      <td>54.2921</td>\n",
       "    </tr>\n",
       "    <tr>\n",
       "      <th>2019-04-05 09:34:00</th>\n",
       "      <td>133.058</td>\n",
       "      <td>182.533</td>\n",
       "      <td>68.50</td>\n",
       "      <td>34.6700</td>\n",
       "      <td>17.8743</td>\n",
       "      <td>9.9501</td>\n",
       "      <td>94.3600</td>\n",
       "      <td>50.1332</td>\n",
       "      <td>107.874</td>\n",
       "      <td>368.050</td>\n",
       "      <td>...</td>\n",
       "      <td>42.9162</td>\n",
       "      <td>75.9897</td>\n",
       "      <td>99.8131</td>\n",
       "      <td>26.2900</td>\n",
       "      <td>11.018</td>\n",
       "      <td>16.6811</td>\n",
       "      <td>189.518</td>\n",
       "      <td>236.010</td>\n",
       "      <td>33.7678</td>\n",
       "      <td>54.2369</td>\n",
       "    </tr>\n",
       "  </tbody>\n",
       "</table>\n",
       "<p>5 rows × 158 columns</p>\n",
       "</div>"
      ],
      "text/plain": [
       "                         cat      mcd   etsy     twtr      kmi     gme  \\\n",
       "2019-04-05 09:30:00  133.561  182.697  68.54  34.6301  17.8967  9.9000   \n",
       "2019-04-05 09:31:00  133.400  182.908  68.49  34.5500  17.9057  9.8900   \n",
       "2019-04-05 09:32:00  133.726  182.678  68.59  34.5170  17.9282  9.9000   \n",
       "2019-04-05 09:33:00  133.554  182.448  68.51  34.5000  17.8966  9.9900   \n",
       "2019-04-05 09:34:00  133.058  182.533  68.50  34.6700  17.8743  9.9501   \n",
       "\n",
       "                        celg      wdc      ups     nflx  ...       ms  \\\n",
       "2019-04-05 09:30:00  94.2100  49.8244  107.836  369.111  ...  42.9067   \n",
       "2019-04-05 09:31:00  94.2500  49.8920  107.873  367.880  ...  42.8782   \n",
       "2019-04-05 09:32:00  94.3162  49.9269  108.143  367.810  ...  43.0824   \n",
       "2019-04-05 09:33:00  94.3700  50.1188  107.940  367.539  ...  42.9162   \n",
       "2019-04-05 09:34:00  94.3600  50.1332  107.874  368.050  ...  42.9162   \n",
       "\n",
       "                         abt       jpm       lb     rad     bbby     nvda  \\\n",
       "2019-04-05 09:30:00  76.4354   99.8698  26.1864  11.196  17.0190  189.751   \n",
       "2019-04-05 09:31:00  76.4257   99.9170  26.2429  11.168  16.8594  189.492   \n",
       "2019-04-05 09:32:00  76.2125  100.1200  26.2476  11.060  16.8125  189.553   \n",
       "2019-04-05 09:33:00  76.0866   99.7659  26.2523  11.020  16.8219  189.144   \n",
       "2019-04-05 09:34:00  75.9897   99.8131  26.2900  11.018  16.6811  189.518   \n",
       "\n",
       "                        biib      aal       vz  \n",
       "2019-04-05 09:30:00  236.020  33.7574  54.2369  \n",
       "2019-04-05 09:31:00  235.786  33.8956  54.1446  \n",
       "2019-04-05 09:32:00  236.353  33.8956  54.1597  \n",
       "2019-04-05 09:33:00  236.300  33.8614  54.2921  \n",
       "2019-04-05 09:34:00  236.010  33.7678  54.2369  \n",
       "\n",
       "[5 rows x 158 columns]"
      ]
     },
     "execution_count": 3,
     "metadata": {},
     "output_type": "execute_result"
    }
   ],
   "source": [
    "data = pd.read_csv(\"test_data.csv\",index_col=[0])\n",
    "data.index = pd.to_datetime(data.index)\n",
    "data.head()"
   ]
  },
  {
   "cell_type": "code",
   "execution_count": 5,
   "id": "0ad69caa",
   "metadata": {},
   "outputs": [],
   "source": [
    "ret_data = data/data.shift(1)-1"
   ]
  },
  {
   "cell_type": "code",
   "execution_count": 12,
   "id": "e0623b8e",
   "metadata": {},
   "outputs": [],
   "source": [
    "corr = ret_data.corr()\n",
    "corr.replace(1,0,inplace = True)"
   ]
  },
  {
   "cell_type": "code",
   "execution_count": 16,
   "id": "ac433bd0",
   "metadata": {},
   "outputs": [
    {
     "data": {
      "text/plain": [
       "tsla   -0.861970\n",
       "f      -0.861970\n",
       "msft   -0.831372\n",
       "fb     -0.808427\n",
       "amzn   -0.760548\n",
       "          ...   \n",
       "wm     -0.137618\n",
       "fdx    -0.137281\n",
       "hpq    -0.136022\n",
       "cost   -0.129980\n",
       "anet   -0.127338\n",
       "Length: 158, dtype: float64"
      ]
     },
     "execution_count": 16,
     "metadata": {},
     "output_type": "execute_result"
    }
   ],
   "source": [
    "corr.min().sort_values()"
   ]
  },
  {
   "cell_type": "code",
   "execution_count": 19,
   "id": "684c9e72",
   "metadata": {},
   "outputs": [
    {
     "data": {
      "text/html": [
       "<div>\n",
       "<style scoped>\n",
       "    .dataframe tbody tr th:only-of-type {\n",
       "        vertical-align: middle;\n",
       "    }\n",
       "\n",
       "    .dataframe tbody tr th {\n",
       "        vertical-align: top;\n",
       "    }\n",
       "\n",
       "    .dataframe thead th {\n",
       "        text-align: right;\n",
       "    }\n",
       "</style>\n",
       "<table border=\"1\" class=\"dataframe\">\n",
       "  <thead>\n",
       "    <tr style=\"text-align: right;\">\n",
       "      <th></th>\n",
       "      <th>tsla</th>\n",
       "    </tr>\n",
       "  </thead>\n",
       "  <tbody>\n",
       "    <tr>\n",
       "      <th>cat</th>\n",
       "      <td>0.010177</td>\n",
       "    </tr>\n",
       "    <tr>\n",
       "      <th>mcd</th>\n",
       "      <td>-0.206532</td>\n",
       "    </tr>\n",
       "    <tr>\n",
       "      <th>etsy</th>\n",
       "      <td>-0.163683</td>\n",
       "    </tr>\n",
       "    <tr>\n",
       "      <th>twtr</th>\n",
       "      <td>-0.722651</td>\n",
       "    </tr>\n",
       "    <tr>\n",
       "      <th>kmi</th>\n",
       "      <td>0.012925</td>\n",
       "    </tr>\n",
       "    <tr>\n",
       "      <th>...</th>\n",
       "      <td>...</td>\n",
       "    </tr>\n",
       "    <tr>\n",
       "      <th>bbby</th>\n",
       "      <td>0.095979</td>\n",
       "    </tr>\n",
       "    <tr>\n",
       "      <th>nvda</th>\n",
       "      <td>0.659577</td>\n",
       "    </tr>\n",
       "    <tr>\n",
       "      <th>biib</th>\n",
       "      <td>-0.040901</td>\n",
       "    </tr>\n",
       "    <tr>\n",
       "      <th>aal</th>\n",
       "      <td>-0.030305</td>\n",
       "    </tr>\n",
       "    <tr>\n",
       "      <th>vz</th>\n",
       "      <td>0.237649</td>\n",
       "    </tr>\n",
       "  </tbody>\n",
       "</table>\n",
       "<p>158 rows × 1 columns</p>\n",
       "</div>"
      ],
      "text/plain": [
       "          tsla\n",
       "cat   0.010177\n",
       "mcd  -0.206532\n",
       "etsy -0.163683\n",
       "twtr -0.722651\n",
       "kmi   0.012925\n",
       "...        ...\n",
       "bbby  0.095979\n",
       "nvda  0.659577\n",
       "biib -0.040901\n",
       "aal  -0.030305\n",
       "vz    0.237649\n",
       "\n",
       "[158 rows x 1 columns]"
      ]
     },
     "execution_count": 19,
     "metadata": {},
     "output_type": "execute_result"
    }
   ],
   "source": [
    "corr[['tsla']]"
   ]
  },
  {
   "cell_type": "code",
   "execution_count": 21,
   "id": "87ca4b8d",
   "metadata": {},
   "outputs": [
    {
     "data": {
      "text/plain": [
       "[<matplotlib.lines.Line2D at 0x7fc8433d6fa0>]"
      ]
     },
     "execution_count": 21,
     "metadata": {},
     "output_type": "execute_result"
    },
    {
     "data": {
      "image/png": "[encoded data removed]",
      "text/plain": [
       "<Figure size 432x288 with 1 Axes>"
      ]
     },
     "metadata": {
      "needs_background": "light"
     },
     "output_type": "display_data"
    }
   ],
   "source": [
    "plt.plot(data['tsla'].values)"
   ]
  },
  {
   "cell_type": "code",
   "execution_count": 24,
   "id": "ab5941c9",
   "metadata": {},
   "outputs": [
    {
     "data": {
      "text/plain": [
       "[<matplotlib.lines.Line2D at 0x7fc8265dc880>]"
      ]
     },
     "execution_count": 24,
     "metadata": {},
     "output_type": "execute_result"
    },
    {
     "data": {
      "image/png": "[encoded data removed]",
      "text/plain": [
       "<Figure size 432x288 with 1 Axes>"
      ]
     },
     "metadata": {
      "needs_background": "light"
     },
     "output_type": "display_data"
    }
   ],
   "source": [
    "plt.plot(data['bbby'].values)"
   ]
  },
  {
   "cell_type": "code",
   "execution_count": null,
   "id": "51d4ed08",
   "metadata": {},
   "outputs": [],
   "source": []
  }
 ],
 "metadata": {
  "kernelspec": {
   "display_name": "Python 3 (ipykernel)",
   "language": "python",
   "name": "python3"
  },
  "language_info": {
   "codemirror_mode": {
    "name": "ipython",
    "version": 3
   },
   "file_extension": ".py",
   "mimetype": "text/x-python",
   "name": "python",
   "nbconvert_exporter": "python",
   "pygments_lexer": "ipython3",
   "version": "3.9.7"
  }
 },
 "nbformat": 4,
 "nbformat_minor": 5
}
