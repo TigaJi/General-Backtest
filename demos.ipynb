{
 "cells": [
  {
   "cell_type": "code",
   "execution_count": 1,
   "id": "8a223c66",
   "metadata": {},
   "outputs": [],
   "source": [
    "from Backtest import Backtest,Position,Bid\n",
    "import pandas as pd\n",
    "import matplotlib.pyplot as plt\n",
    "import random"
   ]
  },
  {
   "cell_type": "code",
   "execution_count": 2,
   "id": "22a7f506",
   "metadata": {},
   "outputs": [],
   "source": [
    "data = pd.read_csv(\"sample_data.csv\",index_col = 0)\n",
    "data.index = pd.to_datetime(data.index)"
   ]
  },
  {
   "cell_type": "code",
   "execution_count": 4,
   "id": "30049c82",
   "metadata": {},
   "outputs": [],
   "source": [
    "def my_strategy(ti,df,positions,cash):\n",
    "    res = []\n",
    "    prices = df.iloc[-1]\n",
    "    if ti.day % 3 == 0:\n",
    "        ticker = random.choice(list(df.columns))\n",
    "        bid = Bid(ticker = ticker,shares = 100,price = prices[ticker],bid_type = 1)\n",
    "        res.append(bid)\n",
    "    \n",
    "    if ti.day % 5 == 0 and len(list(positions.keys())) > 0:\n",
    "        ticker = random.choice(list(positions.keys()))\n",
    "        bid = Bid(ticker = ticker,shares = positions[ticker].shares,price = prices[ticker],bid_type = 0)\n",
    "        res.append(bid)\n",
    "    return res"
   ]
  },
  {
   "cell_type": "code",
   "execution_count": 5,
   "id": "5b1ddb1b",
   "metadata": {},
   "outputs": [
    {
     "name": "stdout",
     "output_type": "stream",
     "text": [
      "Not enough cash to build a position for FDX\n",
      "Not enough cash to build a position for MDT\n",
      "Not enough cash to build a position for TMO\n",
      "Not enough cash to build a position for PEP\n",
      "Not enough cash to build a position for LLY\n",
      "Not enough cash to build a position for CVX\n",
      "Not enough cash to build a position for AVGO\n",
      "Not enough cash to build a position for BKNG\n",
      "Not enough cash to build a position for COST\n",
      "Not enough cash to build a position for TMO\n",
      "Not enough cash to build a position for TXN\n",
      "Not enough cash to build a position for PG\n",
      "Not enough cash to build a position for NFLX\n",
      "Not enough cash to build a position for AMT\n",
      "Not enough cash to build a position for UNH\n",
      "Not enough cash to build a position for LLY\n",
      "Not enough cash to build a position for PFE\n",
      "Not enough cash to build a position for WMT\n",
      "Not enough cash to build a position for MDLZ\n",
      "Not enough cash to build a position for CHTR\n",
      "Not enough cash to build a position for BLK\n",
      "Not enough cash to build a position for GS\n",
      "Not enough cash to build a position for CHTR\n",
      "Not enough cash to build a position for MA\n",
      "Not enough cash to build a position for PYPL\n",
      "Not enough cash to build a position for COST\n",
      "Not enough cash to build a position for JNJ\n",
      "Not enough cash to build a position for DD\n",
      "Not enough cash to build a position for ABT\n",
      "Not enough cash to build a position for MA\n",
      "Not enough cash to build a position for TSLA\n",
      "Not enough cash to build a position for EMR\n",
      "Not enough cash to build a position for DIS\n",
      "Not enough cash to build a position for DIS\n",
      "Not enough cash to build a position for CHTR\n",
      "Not enough cash to build a position for PM\n",
      "Not enough cash to build a position for UNP\n",
      "Not enough cash to build a position for COST\n",
      "Not enough cash to build a position for FDX\n",
      "Not enough cash to build a position for FDX\n",
      "Not enough cash to build a position for NKE\n",
      "Not enough cash to build a position for TMO\n",
      "Not enough cash to build a position for AVGO\n",
      "Not enough cash to build a position for XOM\n",
      "Not enough cash to build a position for AMZN\n",
      "Not enough cash to build a position for GOOGL\n",
      "Not enough cash to build a position for COF\n",
      "Not enough cash to build a position for LLY\n",
      "Not enough cash to build a position for MA\n",
      "Not enough cash to build a position for TMO\n",
      "Not enough cash to build a position for UNP\n",
      "Not enough cash to build a position for AMGN\n",
      "Not enough cash to build a position for MA\n",
      "Not enough cash to build a position for GD\n",
      "Not enough cash to build a position for DIS\n",
      "Not enough cash to build a position for LLY\n",
      "Not enough cash to build a position for TXN\n",
      "Not enough cash to build a position for AVGO\n",
      "Not enough cash to build a position for CVX\n",
      "Not enough cash to build a position for ABBV\n",
      "Not enough cash to build a position for FDX\n",
      "Not enough cash to build a position for BLK\n",
      "Not enough cash to build a position for NVDA\n",
      "Not enough cash to build a position for V\n",
      "Not enough cash to build a position for UNH\n",
      "Not enough cash to build a position for LLY\n",
      "Not enough cash to build a position for CAT\n",
      "Not enough cash to build a position for KO\n",
      "Not enough cash to build a position for MMM\n",
      "Not enough cash to build a position for AMZN\n",
      "Not enough cash to build a position for LIN\n",
      "Not enough cash to build a position for CVX\n",
      "Not enough cash to build a position for JPM\n",
      "Not enough cash to build a position for DOW\n",
      "Not enough cash to build a position for DHR\n",
      "Not enough cash to build a position for PEP\n",
      "Not enough cash to build a position for MS\n",
      "Not enough cash to build a position for PEP\n",
      "Not enough cash to build a position for UNH\n",
      "Not enough cash to build a position for WBA\n",
      "Not enough cash to build a position for PYPL\n",
      "Not enough cash to build a position for HD\n",
      "Not enough cash to build a position for AVGO\n",
      "Not enough cash to build a position for MCD\n",
      "Not enough cash to build a position for QCOM\n"
     ]
    }
   ],
   "source": [
    "random_strat = Backtest(data.dropna(axis = 0),my_strategy)\n",
    "random_strat.backtest()"
   ]
  },
  {
   "cell_type": "code",
   "execution_count": 8,
   "id": "e8ab6025",
   "metadata": {},
   "outputs": [
    {
     "name": "stdout",
     "output_type": "stream",
     "text": [
      "Data uploaded.\n"
     ]
    }
   ],
   "source": [
    "random_strat.upload_to_dashboard(\"demo_random_strategy2\")"
   ]
  },
  {
   "cell_type": "code",
   "execution_count": 7,
   "id": "ed7723c7",
   "metadata": {},
   "outputs": [
    {
     "data": {
      "text/html": [
       "<div>\n",
       "<style scoped>\n",
       "    .dataframe tbody tr th:only-of-type {\n",
       "        vertical-align: middle;\n",
       "    }\n",
       "\n",
       "    .dataframe tbody tr th {\n",
       "        vertical-align: top;\n",
       "    }\n",
       "\n",
       "    .dataframe thead th {\n",
       "        text-align: right;\n",
       "    }\n",
       "</style>\n",
       "<table border=\"1\" class=\"dataframe\">\n",
       "  <thead>\n",
       "    <tr style=\"text-align: right;\">\n",
       "      <th></th>\n",
       "      <th>dt</th>\n",
       "      <th>bid_count</th>\n",
       "      <th>position_count</th>\n",
       "      <th>cash_value</th>\n",
       "      <th>positions_value</th>\n",
       "      <th>total_value</th>\n",
       "      <th>bah</th>\n",
       "    </tr>\n",
       "  </thead>\n",
       "  <tbody>\n",
       "    <tr>\n",
       "      <th>0</th>\n",
       "      <td>2019-09-10</td>\n",
       "      <td>0</td>\n",
       "      <td>0</td>\n",
       "      <td>100000.000000</td>\n",
       "      <td>0.000000</td>\n",
       "      <td>100000.000000</td>\n",
       "      <td>100000.000000</td>\n",
       "    </tr>\n",
       "    <tr>\n",
       "      <th>1</th>\n",
       "      <td>2019-09-11</td>\n",
       "      <td>0</td>\n",
       "      <td>0</td>\n",
       "      <td>100000.000000</td>\n",
       "      <td>0.000000</td>\n",
       "      <td>100000.000000</td>\n",
       "      <td>100809.756143</td>\n",
       "    </tr>\n",
       "    <tr>\n",
       "      <th>2</th>\n",
       "      <td>2019-09-12</td>\n",
       "      <td>1</td>\n",
       "      <td>1</td>\n",
       "      <td>92584.335390</td>\n",
       "      <td>7400.862885</td>\n",
       "      <td>99985.198274</td>\n",
       "      <td>100987.546247</td>\n",
       "    </tr>\n",
       "    <tr>\n",
       "      <th>3</th>\n",
       "      <td>2019-09-13</td>\n",
       "      <td>0</td>\n",
       "      <td>1</td>\n",
       "      <td>92584.335390</td>\n",
       "      <td>7338.160706</td>\n",
       "      <td>99922.496095</td>\n",
       "      <td>101018.948785</td>\n",
       "    </tr>\n",
       "    <tr>\n",
       "      <th>4</th>\n",
       "      <td>2019-09-16</td>\n",
       "      <td>0</td>\n",
       "      <td>1</td>\n",
       "      <td>92584.335390</td>\n",
       "      <td>7303.530884</td>\n",
       "      <td>99887.866273</td>\n",
       "      <td>100566.070635</td>\n",
       "    </tr>\n",
       "    <tr>\n",
       "      <th>...</th>\n",
       "      <td>...</td>\n",
       "      <td>...</td>\n",
       "      <td>...</td>\n",
       "      <td>...</td>\n",
       "      <td>...</td>\n",
       "      <td>...</td>\n",
       "      <td>...</td>\n",
       "    </tr>\n",
       "    <tr>\n",
       "      <th>752</th>\n",
       "      <td>2022-09-02</td>\n",
       "      <td>0</td>\n",
       "      <td>7</td>\n",
       "      <td>21499.438346</td>\n",
       "      <td>116300.997162</td>\n",
       "      <td>137800.435508</td>\n",
       "      <td>152485.585940</td>\n",
       "    </tr>\n",
       "    <tr>\n",
       "      <th>753</th>\n",
       "      <td>2022-09-06</td>\n",
       "      <td>1</td>\n",
       "      <td>8</td>\n",
       "      <td>4514.536897</td>\n",
       "      <td>133656.000519</td>\n",
       "      <td>138170.537415</td>\n",
       "      <td>152204.177128</td>\n",
       "    </tr>\n",
       "    <tr>\n",
       "      <th>754</th>\n",
       "      <td>2022-09-07</td>\n",
       "      <td>0</td>\n",
       "      <td>8</td>\n",
       "      <td>4514.536897</td>\n",
       "      <td>136110.002136</td>\n",
       "      <td>140624.539033</td>\n",
       "      <td>155008.902652</td>\n",
       "    </tr>\n",
       "    <tr>\n",
       "      <th>755</th>\n",
       "      <td>2022-09-08</td>\n",
       "      <td>0</td>\n",
       "      <td>8</td>\n",
       "      <td>4514.536897</td>\n",
       "      <td>137520.999146</td>\n",
       "      <td>142035.536042</td>\n",
       "      <td>156366.669230</td>\n",
       "    </tr>\n",
       "    <tr>\n",
       "      <th>756</th>\n",
       "      <td>2022-09-09</td>\n",
       "      <td>1</td>\n",
       "      <td>8</td>\n",
       "      <td>4514.536897</td>\n",
       "      <td>138598.999786</td>\n",
       "      <td>143113.536683</td>\n",
       "      <td>158861.899823</td>\n",
       "    </tr>\n",
       "  </tbody>\n",
       "</table>\n",
       "<p>757 rows × 7 columns</p>\n",
       "</div>"
      ],
      "text/plain": [
       "            dt  bid_count  position_count     cash_value  positions_value  \\\n",
       "0   2019-09-10          0               0  100000.000000         0.000000   \n",
       "1   2019-09-11          0               0  100000.000000         0.000000   \n",
       "2   2019-09-12          1               1   92584.335390      7400.862885   \n",
       "3   2019-09-13          0               1   92584.335390      7338.160706   \n",
       "4   2019-09-16          0               1   92584.335390      7303.530884   \n",
       "..         ...        ...             ...            ...              ...   \n",
       "752 2022-09-02          0               7   21499.438346    116300.997162   \n",
       "753 2022-09-06          1               8    4514.536897    133656.000519   \n",
       "754 2022-09-07          0               8    4514.536897    136110.002136   \n",
       "755 2022-09-08          0               8    4514.536897    137520.999146   \n",
       "756 2022-09-09          1               8    4514.536897    138598.999786   \n",
       "\n",
       "       total_value            bah  \n",
       "0    100000.000000  100000.000000  \n",
       "1    100000.000000  100809.756143  \n",
       "2     99985.198274  100987.546247  \n",
       "3     99922.496095  101018.948785  \n",
       "4     99887.866273  100566.070635  \n",
       "..             ...            ...  \n",
       "752  137800.435508  152485.585940  \n",
       "753  138170.537415  152204.177128  \n",
       "754  140624.539033  155008.902652  \n",
       "755  142035.536042  156366.669230  \n",
       "756  143113.536683  158861.899823  \n",
       "\n",
       "[757 rows x 7 columns]"
      ]
     },
     "execution_count": 7,
     "metadata": {},
     "output_type": "execute_result"
    }
   ],
   "source": [
    "random_strat.portfolio_tracker"
   ]
  },
  {
   "cell_type": "code",
   "execution_count": 5,
   "id": "05a42265",
   "metadata": {},
   "outputs": [],
   "source": [
    "def BAH(ti,df,positions,cash):\n",
    "    res = []\n",
    "    if ti == df.index[0]:\n",
    "        \n",
    "        count = len(df.columns)\n",
    "        weight = cash//count\n",
    "        \n",
    "        #Latest price\n",
    "        prices = df.iloc[-1]\n",
    "        for ticker in df.columns:\n",
    "            price = prices[ticker]\n",
    "            bid = Bid(ticker = ticker, shares = weight//price,price = price, bid_type = 1)\n",
    "            res.append(bid)\n",
    "    return res"
   ]
  },
  {
   "cell_type": "code",
   "execution_count": 7,
   "id": "b100b9d9",
   "metadata": {},
   "outputs": [],
   "source": [
    "bah = Backtest(data.dropna(axis = 0),BAH)\n",
    "bah.backtest()"
   ]
  },
  {
   "cell_type": "code",
   "execution_count": 10,
   "id": "1215f101",
   "metadata": {},
   "outputs": [
    {
     "data": {
      "text/plain": [
       "[<matplotlib.lines.Line2D at 0x7fd39ccd3730>]"
      ]
     },
     "execution_count": 10,
     "metadata": {},
     "output_type": "execute_result"
    },
    {
     "data": {
      "image/png": "[encoded data removed]",
      "text/plain": [
       "<Figure size 432x288 with 1 Axes>"
      ]
     },
     "metadata": {
      "needs_background": "light"
     },
     "output_type": "display_data"
    }
   ],
   "source": [
    "plt.plot(values)"
   ]
  },
  {
   "cell_type": "code",
   "execution_count": 11,
   "id": "fe5fcdfe",
   "metadata": {},
   "outputs": [
    {
     "data": {
      "text/plain": [
       "[<matplotlib.lines.Line2D at 0x7fd39cdbbdf0>]"
      ]
     },
     "execution_count": 11,
     "metadata": {},
     "output_type": "execute_result"
    },
    {
     "data": {
      "image/png": "[encoded data removed]",
      "text/plain": [
       "<Figure size 432x288 with 1 Axes>"
      ]
     },
     "metadata": {
      "needs_background": "light"
     },
     "output_type": "display_data"
    }
   ],
   "source": [
    "plt.plot(bah.values)"
   ]
  },
  {
   "cell_type": "code",
   "execution_count": 9,
   "id": "e4427e07",
   "metadata": {},
   "outputs": [],
   "source": [
    "values = []\n",
    "for i in range(len(data)):\n",
    "    rets = [end/start for start,end in zip(data.iloc[0].values,data.iloc[i].values)]\n",
    "    values.append(sum(([100000//len(data.columns)*ret for ret in rets])))"
   ]
  },
  {
   "cell_type": "code",
   "execution_count": 23,
   "id": "03530ec1",
   "metadata": {},
   "outputs": [
    {
     "ename": "NameError",
     "evalue": "name 'bah' is not defined",
     "output_type": "error",
     "traceback": [
      "\u001b[0;31m---------------------------------------------------------------------------\u001b[0m",
      "\u001b[0;31mNameError\u001b[0m                                 Traceback (most recent call last)",
      "Input \u001b[0;32mIn [23]\u001b[0m, in \u001b[0;36m<cell line: 1>\u001b[0;34m()\u001b[0m\n\u001b[0;32m----> 1\u001b[0m \u001b[43mbah\u001b[49m\u001b[38;5;241m.\u001b[39mvalues\n",
      "\u001b[0;31mNameError\u001b[0m: name 'bah' is not defined"
     ]
    }
   ],
   "source": [
    "bah.values"
   ]
  },
  {
   "cell_type": "code",
   "execution_count": null,
   "id": "fe2e94b3",
   "metadata": {},
   "outputs": [],
   "source": []
  }
 ],
 "metadata": {
  "kernelspec": {
   "display_name": "Python 3 (ipykernel)",
   "language": "python",
   "name": "python3"
  },
  "language_info": {
   "codemirror_mode": {
    "name": "ipython",
    "version": 3
   },
   "file_extension": ".py",
   "mimetype": "text/x-python",
   "name": "python",
   "nbconvert_exporter": "python",
   "pygments_lexer": "ipython3",
   "version": "3.9.7"
  }
 },
 "nbformat": 4,
 "nbformat_minor": 5
}
