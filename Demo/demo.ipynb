{
 "cells": [
  {
   "cell_type": "code",
   "execution_count": 1,
   "id": "8a223c66",
   "metadata": {},
   "outputs": [],
   "source": [
    "import sys\n",
    "#import Backtest\n",
    "from GeneralBacktest import Backtest,Bid,Position\n",
    "import pandas as pd\n",
    "import matplotlib.pyplot as plt\n",
    "import random\n",
    "import warnings\n",
    "import pickle\n",
    "import yfinance as yf\n",
    "#warnings.filterwarnings(\"ignore\")\n",
    "plt.style.use('seaborn')"
   ]
  },
  {
   "cell_type": "markdown",
   "id": "98ee0265",
   "metadata": {},
   "source": [
    "# Bid Class Demo\n",
    "## intialize a Bid instance with four variables\n",
    "- ticker\n",
    "- shares\n",
    "- price\n",
    "- bid_type (1 as buy, 0 as sell)\n"
   ]
  },
  {
   "cell_type": "code",
   "execution_count": 2,
   "id": "9ce11756",
   "metadata": {},
   "outputs": [
    {
     "name": "stdout",
     "output_type": "stream",
     "text": [
      "---------------\n",
      "Buying:\n",
      "Ticker: AAPL\n",
      "Shares: 100\n",
      "Price: 163.43\n",
      "---------------\n"
     ]
    }
   ],
   "source": [
    "# a bid to buy 100 shares of Apple at $163.43\n",
    "buy_apple_100 = Bid(ticker = \"AAPL\", shares = 100, price = 163.43, bid_type = 1)\n",
    "\n",
    "#the show method could be used for debugging\n",
    "buy_apple_100.show()"
   ]
  },
  {
   "cell_type": "markdown",
   "id": "d60268e7",
   "metadata": {},
   "source": [
    "# "
   ]
  },
  {
   "cell_type": "markdown",
   "id": "4ee9135b",
   "metadata": {},
   "source": [
    "# Position class demo\n",
    "## intialize a Position  instance with a bid instance"
   ]
  },
  {
   "cell_type": "code",
   "execution_count": 3,
   "id": "5a439df5",
   "metadata": {},
   "outputs": [
    {
     "name": "stdout",
     "output_type": "stream",
     "text": [
      "Ticker: AAPL\n",
      "Shares_held: 100\n",
      "Latest_price: 163.43\n",
      "weighted_average_cost: 163.43\n",
      "----------------\n",
      "Purchasing History\n",
      "Price\tShares\n",
      "163.43\t100\n"
     ]
    }
   ],
   "source": [
    "apple_position = Position(buy_apple_100)\n",
    "apple_position.show()"
   ]
  },
  {
   "cell_type": "markdown",
   "id": "41f0c9dd",
   "metadata": {},
   "source": [
    "## Change the position with another bid"
   ]
  },
  {
   "cell_type": "code",
   "execution_count": 4,
   "id": "116919df",
   "metadata": {},
   "outputs": [
    {
     "name": "stdout",
     "output_type": "stream",
     "text": [
      "Ticker: AAPL\n",
      "Shares_held: 150\n",
      "Latest_price: 163.13\n",
      "weighted_average_cost: 163.33\n",
      "----------------\n",
      "Purchasing History\n",
      "Price\tShares\n",
      "163.43\t100\n",
      "163.13\t50\n"
     ]
    }
   ],
   "source": [
    "buy_apple_50 = Bid(ticker = \"AAPL\", shares = 50, price = 163.13, bid_type = 1)\n",
    "apple_position.change_position(buy_apple_50)\n",
    "apple_position.show()"
   ]
  },
  {
   "cell_type": "markdown",
   "id": "703172fa",
   "metadata": {},
   "source": [
    "## Selling a stock"
   ]
  },
  {
   "cell_type": "code",
   "execution_count": 5,
   "id": "2cad5b73",
   "metadata": {},
   "outputs": [
    {
     "name": "stdout",
     "output_type": "stream",
     "text": [
      "Ticker: AAPL\n",
      "Shares_held: 50\n",
      "Latest_price: 165.24\n",
      "weighted_average_cost: 163.43\n",
      "----------------\n",
      "Purchasing History\n",
      "Price\tShares\n",
      "163.43\t50\n"
     ]
    }
   ],
   "source": [
    "sell_apple_100 = Bid(ticker = 'AAPL', shares = 100, price = 165.24, bid_type = 0)\n",
    "\n",
    "#if selling a stock, the change_position method will return a cost\n",
    "#this cost will be the lowest part of costs in purchasing history \n",
    "cost_of_buying_100 = apple_position.change_position(sell_apple_100)\n",
    "apple_position.show()"
   ]
  },
  {
   "cell_type": "code",
   "execution_count": 6,
   "id": "1589e46b",
   "metadata": {},
   "outputs": [
    {
     "name": "stdout",
     "output_type": "stream",
     "text": [
      "Income:  16524.0\n",
      "Cost:  16328.0\n",
      "Pnl for this single trade:  196.0\n"
     ]
    }
   ],
   "source": [
    "income = sell_apple_100.shares * sell_apple_100.price\n",
    "print(\"Income: \", income)\n",
    "print(\"Cost: \", cost_of_buying_100)\n",
    "print(\"Pnl for this single trade: \", income - cost_of_buying_100 )"
   ]
  },
  {
   "cell_type": "markdown",
   "id": "8d2fdabe",
   "metadata": {},
   "source": [
    "## Can't sell more than you have"
   ]
  },
  {
   "cell_type": "code",
   "execution_count": 7,
   "id": "5fd86639",
   "metadata": {},
   "outputs": [
    {
     "name": "stdout",
     "output_type": "stream",
     "text": [
      "Try to sell 100 shares, but only got 50 shares.\n"
     ]
    },
    {
     "data": {
      "text/plain": [
       "-1"
      ]
     },
     "execution_count": 7,
     "metadata": {},
     "output_type": "execute_result"
    }
   ],
   "source": [
    "apple_position.change_position(sell_apple_100)"
   ]
  },
  {
   "cell_type": "markdown",
   "id": "a2e9a8dc",
   "metadata": {},
   "source": [
    "# A demo strategy\n",
    "## Buy 100 shares of AAPL every Monday, then sell on Friday\n",
    "## a strategy is defined as a class, and it must have a predict method that returns a list of Bid instances\n",
    "## a strategy function has five parameters, which are:\n",
    "- ti: current datetime \n",
    "- df: all historical data up to ti\n",
    "- positions: a dictionary of all current positions (k: string of ticker, v: an instance of this ticker's Position)\n",
    "- cash: cash avaliable\n",
    "- full_data: dataframe with OHLCV\n",
    "\n",
    "## *This is the part where you implement your strategy"
   ]
  },
  {
   "cell_type": "code",
   "execution_count": 8,
   "id": "c175d3c7",
   "metadata": {},
   "outputs": [],
   "source": [
    "class DemoStrategy:\n",
    "    \n",
    "    def predict(ti,df,positions,cash,full_data):\n",
    "        \"\"\"A function that will be called at every ti that returns a list of bids(orders)\n",
    "\n",
    "        Args:\n",
    "            ti (pd.DatetimeIndex): current time\n",
    "            df (pd.DataFrame): all history prices up to ti\n",
    "            cash (float): starting cash at this round\n",
    "            full_data(pd.DataFrame): OHLCV up to this ti, optional to be empty\n",
    "\n",
    "        Returns:\n",
    "            a list of Bid instances to execute at this round\n",
    "        \n",
    "        \"\"\"\n",
    "\n",
    "        \n",
    "        bid_list = []\n",
    "\n",
    "        # if Monday\n",
    "        if ti.weekday() == 0:\n",
    "            price = df.iloc[-1]['AAPL'] #AAPL's current price\n",
    "            bid = Bid(ticker = 'AAPL', shares = 100, price = price,bid_type = 1)\n",
    "\n",
    "            bid_list.append(bid)\n",
    "        \n",
    "        #if Friday\n",
    "        if ti.weekday() == 4:\n",
    "            price = df.iloc[-1]['AAPL'] #AAPL's current price\n",
    "            bid = Bid(ticker = 'AAPL', shares = 100, price = price,bid_type = 0)\n",
    "\n",
    "            bid_list.append(bid)\n",
    "        \n",
    "        return bid_list"
   ]
  },
  {
   "cell_type": "markdown",
   "id": "f1d243c9",
   "metadata": {},
   "source": [
    "## Load sample data"
   ]
  },
  {
   "cell_type": "code",
   "execution_count": 9,
   "id": "7ffb2d57",
   "metadata": {},
   "outputs": [
    {
     "data": {
      "text/html": [
       "<div>\n",
       "<style scoped>\n",
       "    .dataframe tbody tr th:only-of-type {\n",
       "        vertical-align: middle;\n",
       "    }\n",
       "\n",
       "    .dataframe tbody tr th {\n",
       "        vertical-align: top;\n",
       "    }\n",
       "\n",
       "    .dataframe thead th {\n",
       "        text-align: right;\n",
       "    }\n",
       "</style>\n",
       "<table border=\"1\" class=\"dataframe\">\n",
       "  <thead>\n",
       "    <tr style=\"text-align: right;\">\n",
       "      <th></th>\n",
       "      <th>AAPL</th>\n",
       "      <th>ABBV</th>\n",
       "      <th>ABT</th>\n",
       "      <th>ACN</th>\n",
       "      <th>ADBE</th>\n",
       "      <th>AIG</th>\n",
       "      <th>AMGN</th>\n",
       "      <th>AMT</th>\n",
       "      <th>AMZN</th>\n",
       "      <th>AVGO</th>\n",
       "      <th>...</th>\n",
       "      <th>UNH</th>\n",
       "      <th>UNP</th>\n",
       "      <th>UPS</th>\n",
       "      <th>USB</th>\n",
       "      <th>V</th>\n",
       "      <th>VZ</th>\n",
       "      <th>WBA</th>\n",
       "      <th>WFC</th>\n",
       "      <th>WMT</th>\n",
       "      <th>XOM</th>\n",
       "    </tr>\n",
       "    <tr>\n",
       "      <th>Date</th>\n",
       "      <th></th>\n",
       "      <th></th>\n",
       "      <th></th>\n",
       "      <th></th>\n",
       "      <th></th>\n",
       "      <th></th>\n",
       "      <th></th>\n",
       "      <th></th>\n",
       "      <th></th>\n",
       "      <th></th>\n",
       "      <th></th>\n",
       "      <th></th>\n",
       "      <th></th>\n",
       "      <th></th>\n",
       "      <th></th>\n",
       "      <th></th>\n",
       "      <th></th>\n",
       "      <th></th>\n",
       "      <th></th>\n",
       "      <th></th>\n",
       "      <th></th>\n",
       "    </tr>\n",
       "  </thead>\n",
       "  <tbody>\n",
       "    <tr>\n",
       "      <th>2019-03-20</th>\n",
       "      <td>45.672226</td>\n",
       "      <td>67.746773</td>\n",
       "      <td>75.681816</td>\n",
       "      <td>158.183182</td>\n",
       "      <td>259.739990</td>\n",
       "      <td>38.793434</td>\n",
       "      <td>172.204147</td>\n",
       "      <td>177.789688</td>\n",
       "      <td>89.863503</td>\n",
       "      <td>256.562775</td>\n",
       "      <td>...</td>\n",
       "      <td>237.594376</td>\n",
       "      <td>149.610031</td>\n",
       "      <td>97.356354</td>\n",
       "      <td>44.043068</td>\n",
       "      <td>150.371948</td>\n",
       "      <td>48.581097</td>\n",
       "      <td>54.631924</td>\n",
       "      <td>45.600048</td>\n",
       "      <td>93.002449</td>\n",
       "      <td>66.370712</td>\n",
       "    </tr>\n",
       "    <tr>\n",
       "      <th>2019-03-21</th>\n",
       "      <td>47.354343</td>\n",
       "      <td>68.429039</td>\n",
       "      <td>75.795403</td>\n",
       "      <td>160.057327</td>\n",
       "      <td>264.179993</td>\n",
       "      <td>39.217850</td>\n",
       "      <td>172.897949</td>\n",
       "      <td>180.732117</td>\n",
       "      <td>90.962997</td>\n",
       "      <td>261.649475</td>\n",
       "      <td>...</td>\n",
       "      <td>239.036133</td>\n",
       "      <td>151.106140</td>\n",
       "      <td>99.052338</td>\n",
       "      <td>43.422256</td>\n",
       "      <td>152.376923</td>\n",
       "      <td>49.103390</td>\n",
       "      <td>55.336681</td>\n",
       "      <td>45.111477</td>\n",
       "      <td>93.398445</td>\n",
       "      <td>66.754303</td>\n",
       "    </tr>\n",
       "    <tr>\n",
       "      <th>2019-03-22</th>\n",
       "      <td>46.373714</td>\n",
       "      <td>67.182434</td>\n",
       "      <td>73.816734</td>\n",
       "      <td>157.203217</td>\n",
       "      <td>259.690002</td>\n",
       "      <td>38.486416</td>\n",
       "      <td>168.221588</td>\n",
       "      <td>179.748230</td>\n",
       "      <td>88.238503</td>\n",
       "      <td>257.990936</td>\n",
       "      <td>...</td>\n",
       "      <td>234.360107</td>\n",
       "      <td>149.256927</td>\n",
       "      <td>96.842163</td>\n",
       "      <td>42.215588</td>\n",
       "      <td>149.706924</td>\n",
       "      <td>50.341709</td>\n",
       "      <td>54.301296</td>\n",
       "      <td>43.709091</td>\n",
       "      <td>92.663010</td>\n",
       "      <td>65.685143</td>\n",
       "    </tr>\n",
       "    <tr>\n",
       "      <th>2019-03-25</th>\n",
       "      <td>45.813011</td>\n",
       "      <td>66.971848</td>\n",
       "      <td>74.062904</td>\n",
       "      <td>157.051041</td>\n",
       "      <td>262.269989</td>\n",
       "      <td>38.332909</td>\n",
       "      <td>168.122467</td>\n",
       "      <td>181.641785</td>\n",
       "      <td>88.712997</td>\n",
       "      <td>257.558960</td>\n",
       "      <td>...</td>\n",
       "      <td>234.141953</td>\n",
       "      <td>150.074631</td>\n",
       "      <td>96.436188</td>\n",
       "      <td>42.058201</td>\n",
       "      <td>149.667770</td>\n",
       "      <td>50.611271</td>\n",
       "      <td>53.674843</td>\n",
       "      <td>43.500996</td>\n",
       "      <td>92.559303</td>\n",
       "      <td>65.228065</td>\n",
       "    </tr>\n",
       "    <tr>\n",
       "      <th>2019-03-26</th>\n",
       "      <td>45.339684</td>\n",
       "      <td>68.024742</td>\n",
       "      <td>74.791878</td>\n",
       "      <td>158.820541</td>\n",
       "      <td>265.589996</td>\n",
       "      <td>38.874706</td>\n",
       "      <td>169.636185</td>\n",
       "      <td>181.047699</td>\n",
       "      <td>89.188004</td>\n",
       "      <td>261.852234</td>\n",
       "      <td>...</td>\n",
       "      <td>230.850708</td>\n",
       "      <td>150.362686</td>\n",
       "      <td>97.798386</td>\n",
       "      <td>42.416702</td>\n",
       "      <td>151.887848</td>\n",
       "      <td>51.074593</td>\n",
       "      <td>53.874958</td>\n",
       "      <td>44.342426</td>\n",
       "      <td>92.700722</td>\n",
       "      <td>66.076881</td>\n",
       "    </tr>\n",
       "  </tbody>\n",
       "</table>\n",
       "<p>5 rows × 100 columns</p>\n",
       "</div>"
      ],
      "text/plain": [
       "                 AAPL       ABBV        ABT         ACN        ADBE  \\\n",
       "Date                                                                  \n",
       "2019-03-20  45.672226  67.746773  75.681816  158.183182  259.739990   \n",
       "2019-03-21  47.354343  68.429039  75.795403  160.057327  264.179993   \n",
       "2019-03-22  46.373714  67.182434  73.816734  157.203217  259.690002   \n",
       "2019-03-25  45.813011  66.971848  74.062904  157.051041  262.269989   \n",
       "2019-03-26  45.339684  68.024742  74.791878  158.820541  265.589996   \n",
       "\n",
       "                  AIG        AMGN         AMT       AMZN        AVGO  ...  \\\n",
       "Date                                                                  ...   \n",
       "2019-03-20  38.793434  172.204147  177.789688  89.863503  256.562775  ...   \n",
       "2019-03-21  39.217850  172.897949  180.732117  90.962997  261.649475  ...   \n",
       "2019-03-22  38.486416  168.221588  179.748230  88.238503  257.990936  ...   \n",
       "2019-03-25  38.332909  168.122467  181.641785  88.712997  257.558960  ...   \n",
       "2019-03-26  38.874706  169.636185  181.047699  89.188004  261.852234  ...   \n",
       "\n",
       "                   UNH         UNP        UPS        USB           V  \\\n",
       "Date                                                                   \n",
       "2019-03-20  237.594376  149.610031  97.356354  44.043068  150.371948   \n",
       "2019-03-21  239.036133  151.106140  99.052338  43.422256  152.376923   \n",
       "2019-03-22  234.360107  149.256927  96.842163  42.215588  149.706924   \n",
       "2019-03-25  234.141953  150.074631  96.436188  42.058201  149.667770   \n",
       "2019-03-26  230.850708  150.362686  97.798386  42.416702  151.887848   \n",
       "\n",
       "                   VZ        WBA        WFC        WMT        XOM  \n",
       "Date                                                               \n",
       "2019-03-20  48.581097  54.631924  45.600048  93.002449  66.370712  \n",
       "2019-03-21  49.103390  55.336681  45.111477  93.398445  66.754303  \n",
       "2019-03-22  50.341709  54.301296  43.709091  92.663010  65.685143  \n",
       "2019-03-25  50.611271  53.674843  43.500996  92.559303  65.228065  \n",
       "2019-03-26  51.074593  53.874958  44.342426  92.700722  66.076881  \n",
       "\n",
       "[5 rows x 100 columns]"
      ]
     },
     "execution_count": 9,
     "metadata": {},
     "output_type": "execute_result"
    }
   ],
   "source": [
    "data = pd.read_csv(\"test_data.csv\",index_col = 0)\n",
    "data.index = pd.to_datetime(data.index)\n",
    "data.head()"
   ]
  },
  {
   "cell_type": "code",
   "execution_count": 10,
   "id": "29d461d1",
   "metadata": {},
   "outputs": [
    {
     "data": {
      "text/plain": [
       "(896, 100)"
      ]
     },
     "execution_count": 10,
     "metadata": {},
     "output_type": "execute_result"
    }
   ],
   "source": [
    "data.shape"
   ]
  },
  {
   "cell_type": "markdown",
   "id": "8925786c",
   "metadata": {},
   "source": [
    "# Backtest Demo\n",
    "## initialize a Backtest instance with data and strategy, in default:"
   ]
  },
  {
   "cell_type": "code",
   "execution_count": 11,
   "id": "64f7a549",
   "metadata": {},
   "outputs": [],
   "source": [
    "demo_strat = Backtest(data, DemoStrategy)"
   ]
  },
  {
   "cell_type": "code",
   "execution_count": 12,
   "id": "671826e8",
   "metadata": {},
   "outputs": [
    {
     "name": "stdout",
     "output_type": "stream",
     "text": [
      "====================Start====================\n",
      "Try to sell 100 shares, but only got 0 shares.\n",
      "Try to sell 100 shares, but only got 0 shares.\n",
      "Try to sell 100 shares, but only got 0 shares.\n",
      "Try to sell 100 shares, but only got 0 shares.\n",
      "Try to sell 100 shares, but only got 0 shares.\n",
      "Try to sell 100 shares, but only got 0 shares.\n",
      "Try to sell 100 shares, but only got 0 shares.\n",
      "Try to sell 100 shares, but only got 0 shares.\n",
      "Try to sell 100 shares, but only got 0 shares.\n",
      "Try to sell 100 shares, but only got 0 shares.\n",
      "Finished, Final Return = 0.0383\n"
     ]
    }
   ],
   "source": [
    "demo_strat.backtest_full()"
   ]
  },
  {
   "cell_type": "markdown",
   "id": "7b00de8c",
   "metadata": {},
   "source": [
    "## After backtest, check all historical transactions with transaction_history, a dataframe that recorded each bid, its transaction cost and pnl."
   ]
  },
  {
   "cell_type": "code",
   "execution_count": 13,
   "id": "3b2e597f",
   "metadata": {},
   "outputs": [
    {
     "data": {
      "text/html": [
       "<div>\n",
       "<style scoped>\n",
       "    .dataframe tbody tr th:only-of-type {\n",
       "        vertical-align: middle;\n",
       "    }\n",
       "\n",
       "    .dataframe tbody tr th {\n",
       "        vertical-align: top;\n",
       "    }\n",
       "\n",
       "    .dataframe thead th {\n",
       "        text-align: right;\n",
       "    }\n",
       "</style>\n",
       "<table border=\"1\" class=\"dataframe\">\n",
       "  <thead>\n",
       "    <tr style=\"text-align: right;\">\n",
       "      <th></th>\n",
       "      <th>dt</th>\n",
       "      <th>ticker</th>\n",
       "      <th>type</th>\n",
       "      <th>price</th>\n",
       "      <th>shares</th>\n",
       "      <th>amount</th>\n",
       "      <th>transaction_cost</th>\n",
       "      <th>pnl</th>\n",
       "    </tr>\n",
       "  </thead>\n",
       "  <tbody>\n",
       "    <tr>\n",
       "      <th>0</th>\n",
       "      <td>2019-03-25</td>\n",
       "      <td>AAPL</td>\n",
       "      <td>1</td>\n",
       "      <td>45.813011</td>\n",
       "      <td>100</td>\n",
       "      <td>4581.301117</td>\n",
       "      <td>0.0</td>\n",
       "      <td>0.000000</td>\n",
       "    </tr>\n",
       "    <tr>\n",
       "      <th>1</th>\n",
       "      <td>2019-03-29</td>\n",
       "      <td>AAPL</td>\n",
       "      <td>0</td>\n",
       "      <td>46.106712</td>\n",
       "      <td>100</td>\n",
       "      <td>4610.671234</td>\n",
       "      <td>0.0</td>\n",
       "      <td>29.370117</td>\n",
       "    </tr>\n",
       "    <tr>\n",
       "      <th>2</th>\n",
       "      <td>2019-04-01</td>\n",
       "      <td>AAPL</td>\n",
       "      <td>1</td>\n",
       "      <td>46.419830</td>\n",
       "      <td>100</td>\n",
       "      <td>4641.983032</td>\n",
       "      <td>0.0</td>\n",
       "      <td>0.000000</td>\n",
       "    </tr>\n",
       "    <tr>\n",
       "      <th>3</th>\n",
       "      <td>2019-04-05</td>\n",
       "      <td>AAPL</td>\n",
       "      <td>0</td>\n",
       "      <td>47.817966</td>\n",
       "      <td>100</td>\n",
       "      <td>4781.796646</td>\n",
       "      <td>0.0</td>\n",
       "      <td>139.813614</td>\n",
       "    </tr>\n",
       "    <tr>\n",
       "      <th>4</th>\n",
       "      <td>2019-04-08</td>\n",
       "      <td>AAPL</td>\n",
       "      <td>1</td>\n",
       "      <td>48.570442</td>\n",
       "      <td>100</td>\n",
       "      <td>4857.044220</td>\n",
       "      <td>0.0</td>\n",
       "      <td>0.000000</td>\n",
       "    </tr>\n",
       "    <tr>\n",
       "      <th>...</th>\n",
       "      <td>...</td>\n",
       "      <td>...</td>\n",
       "      <td>...</td>\n",
       "      <td>...</td>\n",
       "      <td>...</td>\n",
       "      <td>...</td>\n",
       "      <td>...</td>\n",
       "      <td>...</td>\n",
       "    </tr>\n",
       "    <tr>\n",
       "      <th>331</th>\n",
       "      <td>2022-09-23</td>\n",
       "      <td>AAPL</td>\n",
       "      <td>0</td>\n",
       "      <td>150.429993</td>\n",
       "      <td>100</td>\n",
       "      <td>15042.999268</td>\n",
       "      <td>0.0</td>\n",
       "      <td>-405.000305</td>\n",
       "    </tr>\n",
       "    <tr>\n",
       "      <th>332</th>\n",
       "      <td>2022-09-26</td>\n",
       "      <td>AAPL</td>\n",
       "      <td>1</td>\n",
       "      <td>150.770004</td>\n",
       "      <td>100</td>\n",
       "      <td>15077.000427</td>\n",
       "      <td>0.0</td>\n",
       "      <td>0.000000</td>\n",
       "    </tr>\n",
       "    <tr>\n",
       "      <th>333</th>\n",
       "      <td>2022-09-30</td>\n",
       "      <td>AAPL</td>\n",
       "      <td>0</td>\n",
       "      <td>138.199997</td>\n",
       "      <td>100</td>\n",
       "      <td>13819.999695</td>\n",
       "      <td>0.0</td>\n",
       "      <td>-1257.000732</td>\n",
       "    </tr>\n",
       "    <tr>\n",
       "      <th>334</th>\n",
       "      <td>2022-10-03</td>\n",
       "      <td>AAPL</td>\n",
       "      <td>1</td>\n",
       "      <td>142.449997</td>\n",
       "      <td>100</td>\n",
       "      <td>14244.999695</td>\n",
       "      <td>0.0</td>\n",
       "      <td>0.000000</td>\n",
       "    </tr>\n",
       "    <tr>\n",
       "      <th>335</th>\n",
       "      <td>2022-10-07</td>\n",
       "      <td>AAPL</td>\n",
       "      <td>0</td>\n",
       "      <td>140.089996</td>\n",
       "      <td>100</td>\n",
       "      <td>14008.999634</td>\n",
       "      <td>0.0</td>\n",
       "      <td>-236.000061</td>\n",
       "    </tr>\n",
       "  </tbody>\n",
       "</table>\n",
       "<p>336 rows × 8 columns</p>\n",
       "</div>"
      ],
      "text/plain": [
       "            dt ticker  type       price  shares        amount  \\\n",
       "0   2019-03-25   AAPL     1   45.813011     100   4581.301117   \n",
       "1   2019-03-29   AAPL     0   46.106712     100   4610.671234   \n",
       "2   2019-04-01   AAPL     1   46.419830     100   4641.983032   \n",
       "3   2019-04-05   AAPL     0   47.817966     100   4781.796646   \n",
       "4   2019-04-08   AAPL     1   48.570442     100   4857.044220   \n",
       "..         ...    ...   ...         ...     ...           ...   \n",
       "331 2022-09-23   AAPL     0  150.429993     100  15042.999268   \n",
       "332 2022-09-26   AAPL     1  150.770004     100  15077.000427   \n",
       "333 2022-09-30   AAPL     0  138.199997     100  13819.999695   \n",
       "334 2022-10-03   AAPL     1  142.449997     100  14244.999695   \n",
       "335 2022-10-07   AAPL     0  140.089996     100  14008.999634   \n",
       "\n",
       "     transaction_cost          pnl  \n",
       "0                 0.0     0.000000  \n",
       "1                 0.0    29.370117  \n",
       "2                 0.0     0.000000  \n",
       "3                 0.0   139.813614  \n",
       "4                 0.0     0.000000  \n",
       "..                ...          ...  \n",
       "331               0.0  -405.000305  \n",
       "332               0.0     0.000000  \n",
       "333               0.0 -1257.000732  \n",
       "334               0.0     0.000000  \n",
       "335               0.0  -236.000061  \n",
       "\n",
       "[336 rows x 8 columns]"
      ]
     },
     "execution_count": 13,
     "metadata": {},
     "output_type": "execute_result"
    }
   ],
   "source": [
    "demo_strat.transaction_history"
   ]
  },
  {
   "cell_type": "code",
   "execution_count": 14,
   "id": "65311b98",
   "metadata": {},
   "outputs": [
    {
     "name": "stdout",
     "output_type": "stream",
     "text": [
      "Total Transaction cost: 0.0\n"
     ]
    }
   ],
   "source": [
    "print(\"Total Transaction cost:\", demo_strat.transaction_history['transaction_cost'].sum())"
   ]
  },
  {
   "cell_type": "code",
   "execution_count": 15,
   "id": "cd77c815",
   "metadata": {},
   "outputs": [
    {
     "data": {
      "text/plain": [
       "<AxesSubplot:>"
      ]
     },
     "execution_count": 15,
     "metadata": {},
     "output_type": "execute_result"
    },
    {
     "data": {
      "image/png": "[encoded data removed]",
      "text/plain": [
       "<Figure size 576x396 with 1 Axes>"
      ]
     },
     "metadata": {},
     "output_type": "display_data"
    }
   ],
   "source": [
    "#histogram of pnl\n",
    "demo_strat.transaction_history[demo_strat.transaction_history.type ==0]['pnl'].hist(bins = 50)"
   ]
  },
  {
   "cell_type": "markdown",
   "id": "afb4df13",
   "metadata": {},
   "source": [
    "## The portfolio_tracker records the # of bids, length of positions, cash value, position value, total value at each ti. \n",
    "## The bah column is the value stored assuming we buy all the tickers when it begins, will be used for benchmark"
   ]
  },
  {
   "cell_type": "code",
   "execution_count": 16,
   "id": "c2d2a42a",
   "metadata": {},
   "outputs": [
    {
     "data": {
      "text/html": [
       "<div>\n",
       "<style scoped>\n",
       "    .dataframe tbody tr th:only-of-type {\n",
       "        vertical-align: middle;\n",
       "    }\n",
       "\n",
       "    .dataframe tbody tr th {\n",
       "        vertical-align: top;\n",
       "    }\n",
       "\n",
       "    .dataframe thead th {\n",
       "        text-align: right;\n",
       "    }\n",
       "</style>\n",
       "<table border=\"1\" class=\"dataframe\">\n",
       "  <thead>\n",
       "    <tr style=\"text-align: right;\">\n",
       "      <th></th>\n",
       "      <th>dt</th>\n",
       "      <th>bid_count</th>\n",
       "      <th>position_count</th>\n",
       "      <th>cash_value</th>\n",
       "      <th>positions_value</th>\n",
       "      <th>total_value</th>\n",
       "      <th>bah</th>\n",
       "    </tr>\n",
       "  </thead>\n",
       "  <tbody>\n",
       "    <tr>\n",
       "      <th>0</th>\n",
       "      <td>2019-03-20</td>\n",
       "      <td>0</td>\n",
       "      <td>0</td>\n",
       "      <td>100000.000000</td>\n",
       "      <td>0.000000</td>\n",
       "      <td>100000.000000</td>\n",
       "      <td>100000.000000</td>\n",
       "    </tr>\n",
       "    <tr>\n",
       "      <th>1</th>\n",
       "      <td>2019-03-21</td>\n",
       "      <td>0</td>\n",
       "      <td>0</td>\n",
       "      <td>100000.000000</td>\n",
       "      <td>0.000000</td>\n",
       "      <td>100000.000000</td>\n",
       "      <td>100954.473649</td>\n",
       "    </tr>\n",
       "    <tr>\n",
       "      <th>2</th>\n",
       "      <td>2019-03-22</td>\n",
       "      <td>1</td>\n",
       "      <td>0</td>\n",
       "      <td>100000.000000</td>\n",
       "      <td>0.000000</td>\n",
       "      <td>100000.000000</td>\n",
       "      <td>99110.452320</td>\n",
       "    </tr>\n",
       "    <tr>\n",
       "      <th>3</th>\n",
       "      <td>2019-03-25</td>\n",
       "      <td>1</td>\n",
       "      <td>1</td>\n",
       "      <td>95418.698883</td>\n",
       "      <td>4581.301117</td>\n",
       "      <td>100000.000000</td>\n",
       "      <td>99028.807052</td>\n",
       "    </tr>\n",
       "    <tr>\n",
       "      <th>4</th>\n",
       "      <td>2019-03-26</td>\n",
       "      <td>0</td>\n",
       "      <td>1</td>\n",
       "      <td>95418.698883</td>\n",
       "      <td>4533.968353</td>\n",
       "      <td>99952.667236</td>\n",
       "      <td>99948.807689</td>\n",
       "    </tr>\n",
       "    <tr>\n",
       "      <th>...</th>\n",
       "      <td>...</td>\n",
       "      <td>...</td>\n",
       "      <td>...</td>\n",
       "      <td>...</td>\n",
       "      <td>...</td>\n",
       "      <td>...</td>\n",
       "      <td>...</td>\n",
       "    </tr>\n",
       "    <tr>\n",
       "      <th>891</th>\n",
       "      <td>2022-09-30</td>\n",
       "      <td>1</td>\n",
       "      <td>0</td>\n",
       "      <td>104061.518860</td>\n",
       "      <td>0.000000</td>\n",
       "      <td>104061.518860</td>\n",
       "      <td>145482.006651</td>\n",
       "    </tr>\n",
       "    <tr>\n",
       "      <th>892</th>\n",
       "      <td>2022-10-03</td>\n",
       "      <td>1</td>\n",
       "      <td>1</td>\n",
       "      <td>89816.519165</td>\n",
       "      <td>14244.999695</td>\n",
       "      <td>104061.518860</td>\n",
       "      <td>147742.010895</td>\n",
       "    </tr>\n",
       "    <tr>\n",
       "      <th>893</th>\n",
       "      <td>2022-10-04</td>\n",
       "      <td>0</td>\n",
       "      <td>1</td>\n",
       "      <td>89816.519165</td>\n",
       "      <td>14610.000610</td>\n",
       "      <td>104426.519775</td>\n",
       "      <td>152403.253638</td>\n",
       "    </tr>\n",
       "    <tr>\n",
       "      <th>894</th>\n",
       "      <td>2022-10-05</td>\n",
       "      <td>0</td>\n",
       "      <td>1</td>\n",
       "      <td>89816.519165</td>\n",
       "      <td>14639.999390</td>\n",
       "      <td>104456.518555</td>\n",
       "      <td>151698.105409</td>\n",
       "    </tr>\n",
       "    <tr>\n",
       "      <th>895</th>\n",
       "      <td>2022-10-07</td>\n",
       "      <td>1</td>\n",
       "      <td>0</td>\n",
       "      <td>103825.518799</td>\n",
       "      <td>0.000000</td>\n",
       "      <td>103825.518799</td>\n",
       "      <td>145808.890639</td>\n",
       "    </tr>\n",
       "  </tbody>\n",
       "</table>\n",
       "<p>896 rows × 7 columns</p>\n",
       "</div>"
      ],
      "text/plain": [
       "            dt  bid_count  position_count     cash_value  positions_value  \\\n",
       "0   2019-03-20          0               0  100000.000000         0.000000   \n",
       "1   2019-03-21          0               0  100000.000000         0.000000   \n",
       "2   2019-03-22          1               0  100000.000000         0.000000   \n",
       "3   2019-03-25          1               1   95418.698883      4581.301117   \n",
       "4   2019-03-26          0               1   95418.698883      4533.968353   \n",
       "..         ...        ...             ...            ...              ...   \n",
       "891 2022-09-30          1               0  104061.518860         0.000000   \n",
       "892 2022-10-03          1               1   89816.519165     14244.999695   \n",
       "893 2022-10-04          0               1   89816.519165     14610.000610   \n",
       "894 2022-10-05          0               1   89816.519165     14639.999390   \n",
       "895 2022-10-07          1               0  103825.518799         0.000000   \n",
       "\n",
       "       total_value            bah  \n",
       "0    100000.000000  100000.000000  \n",
       "1    100000.000000  100954.473649  \n",
       "2    100000.000000   99110.452320  \n",
       "3    100000.000000   99028.807052  \n",
       "4     99952.667236   99948.807689  \n",
       "..             ...            ...  \n",
       "891  104061.518860  145482.006651  \n",
       "892  104061.518860  147742.010895  \n",
       "893  104426.519775  152403.253638  \n",
       "894  104456.518555  151698.105409  \n",
       "895  103825.518799  145808.890639  \n",
       "\n",
       "[896 rows x 7 columns]"
      ]
     },
     "execution_count": 16,
     "metadata": {},
     "output_type": "execute_result"
    }
   ],
   "source": [
    "demo_strat.portfolio_tracker"
   ]
  },
  {
   "cell_type": "markdown",
   "id": "e66c0918",
   "metadata": {},
   "source": [
    "## The plot method will plot the value of portfolio over time, along with the buy and hold strategy\n",
    "\n",
    "## more metrics and graphs are being developed"
   ]
  },
  {
   "cell_type": "code",
   "execution_count": 17,
   "id": "223337bd",
   "metadata": {},
   "outputs": [
    {
     "data": {
      "image/png": "[encoded data removed]",
      "text/plain": [
       "<Figure size 576x396 with 1 Axes>"
      ]
     },
     "metadata": {},
     "output_type": "display_data"
    }
   ],
   "source": [
    "demo_strat.plot()"
   ]
  },
  {
   "cell_type": "markdown",
   "id": "31026750",
   "metadata": {},
   "source": [
    "# "
   ]
  },
  {
   "cell_type": "markdown",
   "id": "ea14748a",
   "metadata": {},
   "source": [
    "# Upload to dashboard\n",
    "## the upload_to_dashboard method will upload this graph to dashboard.\n",
    "## make sure the crediential file \"algo-trade-dashboard-80cae071e907.json\" is under current directory, also install the related packages in requirements.txt\n",
    "\n",
    "## to upload, call the function with the strategy name, if the name already exist in the gcloud, the previous data will be overwritten"
   ]
  },
  {
   "cell_type": "code",
   "execution_count": 18,
   "id": "fba5374b",
   "metadata": {},
   "outputs": [
    {
     "name": "stdout",
     "output_type": "stream",
     "text": [
      "Data uploaded.\n"
     ]
    }
   ],
   "source": [
    "demo_strat.upload_to_dashboard(\"demo\")"
   ]
  },
  {
   "cell_type": "markdown",
   "id": "4ebd21bd",
   "metadata": {},
   "source": [
    "# Check on dashboard:\n",
    "https://tigaji-algo-trade-dashboard-dashboard-gv8r0a.streamlitapp.com/"
   ]
  },
  {
   "cell_type": "code",
   "execution_count": null,
   "id": "9bac0ccb",
   "metadata": {},
   "outputs": [],
   "source": []
  }
 ],
 "metadata": {
  "kernelspec": {
   "display_name": "Python 3 (ipykernel)",
   "language": "python",
   "name": "python3"
  },
  "language_info": {
   "codemirror_mode": {
    "name": "ipython",
    "version": 3
   },
   "file_extension": ".py",
   "mimetype": "text/x-python",
   "name": "python",
   "nbconvert_exporter": "python",
   "pygments_lexer": "ipython3",
   "version": "3.9.7"
  }
 },
 "nbformat": 4,
 "nbformat_minor": 5
}
