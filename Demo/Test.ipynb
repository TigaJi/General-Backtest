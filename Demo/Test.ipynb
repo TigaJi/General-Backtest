{
 "cells": [
  {
   "cell_type": "code",
   "execution_count": 1,
   "id": "8a223c66",
   "metadata": {},
   "outputs": [],
   "source": [
    "import sys\n",
    "#import Backtest\n",
    "from GeneralBacktest import Backtest,Bid,Position\n",
    "import pandas as pd\n",
    "import matplotlib.pyplot as plt\n",
    "import random\n",
    "import warnings\n",
    "import pickle\n",
    "import yfinance as yf\n",
    "#warnings.filterwarnings(\"ignore\")"
   ]
  },
  {
   "cell_type": "code",
   "execution_count": 2,
   "id": "c175d3c7",
   "metadata": {},
   "outputs": [],
   "source": [
    "class DemoStrategy:\n",
    "    def predict(ti,df,positions,cash,full_data):\n",
    "        bid_list = []\n",
    "\n",
    "        if ti.weekday() == 0:\n",
    "            bid = Bid(ticker = 'AAPL', shares = 100, price = df.iloc[-1]['AAPL'],bid_type = 1)\n",
    "\n",
    "            bid_list.append(bid)\n",
    "        \n",
    "        if ti.weekday() == 4:\n",
    "            bid = Bid(ticker = 'AAPL', shares = 100, price = df.iloc[-1]['AAPL'],bid_type = 0)\n",
    "\n",
    "            bid_list.append(bid)\n",
    "        \n",
    "        return bid_list"
   ]
  },
  {
   "cell_type": "markdown",
   "id": "f1d243c9",
   "metadata": {},
   "source": [
    "# Load sample data"
   ]
  },
  {
   "cell_type": "code",
   "execution_count": 3,
   "id": "7ffb2d57",
   "metadata": {},
   "outputs": [],
   "source": [
    "data = pd.read_csv(\"test_data.csv\",index_col = 0)\n",
    "data.index = pd.to_datetime(data.index)"
   ]
  },
  {
   "cell_type": "code",
   "execution_count": 4,
   "id": "64f7a549",
   "metadata": {},
   "outputs": [],
   "source": [
    "bt = Backtest(data, DemoStrategy)"
   ]
  },
  {
   "cell_type": "code",
   "execution_count": 5,
   "id": "671826e8",
   "metadata": {},
   "outputs": [
    {
     "name": "stdout",
     "output_type": "stream",
     "text": [
      "====================Start====================\n",
      "\n"
     ]
    },
    {
     "name": "stderr",
     "output_type": "stream",
     "text": [
      "  4%|█▋                                       | 38/896 [00:00<00:04, 200.74it/s]"
     ]
    },
    {
     "name": "stdout",
     "output_type": "stream",
     "text": [
      "Try to sell 100 shares, but only got 0 shares.\n"
     ]
    },
    {
     "name": "stderr",
     "output_type": "stream",
     "text": [
      " 20%|███████▉                                | 178/896 [00:00<00:02, 258.60it/s]"
     ]
    },
    {
     "name": "stdout",
     "output_type": "stream",
     "text": [
      "Try to sell 100 shares, but only got 0 shares.\n"
     ]
    },
    {
     "name": "stderr",
     "output_type": "stream",
     "text": [
      " 29%|███████████▌                            | 258/896 [00:01<00:02, 250.60it/s]"
     ]
    },
    {
     "name": "stdout",
     "output_type": "stream",
     "text": [
      "Try to sell 100 shares, but only got 0 shares.\n",
      "Try to sell 100 shares, but only got 0 shares.\n"
     ]
    },
    {
     "name": "stderr",
     "output_type": "stream",
     "text": [
      " 69%|███████████████████████████▌            | 617/896 [00:02<00:00, 308.32it/s]"
     ]
    },
    {
     "name": "stdout",
     "output_type": "stream",
     "text": [
      "Try to sell 100 shares, but only got 0 shares.\n",
      "Try to sell 100 shares, but only got 0 shares.\n"
     ]
    },
    {
     "name": "stderr",
     "output_type": "stream",
     "text": [
      " 86%|██████████████████████████████████▌     | 775/896 [00:02<00:00, 307.29it/s]"
     ]
    },
    {
     "name": "stdout",
     "output_type": "stream",
     "text": [
      "Try to sell 100 shares, but only got 0 shares.\n"
     ]
    },
    {
     "name": "stderr",
     "output_type": "stream",
     "text": [
      " 97%|██████████████████████████████████████▉ | 872/896 [00:03<00:00, 301.54it/s]"
     ]
    },
    {
     "name": "stdout",
     "output_type": "stream",
     "text": [
      "Try to sell 100 shares, but only got 0 shares.\n",
      "Try to sell 100 shares, but only got 0 shares.\n",
      "Try to sell 100 shares, but only got 0 shares.\n"
     ]
    },
    {
     "name": "stderr",
     "output_type": "stream",
     "text": [
      "100%|████████████████████████████████████████| 896/896 [00:03<00:00, 275.55it/s]\n"
     ]
    }
   ],
   "source": [
    "bt.backtest_full()"
   ]
  },
  {
   "cell_type": "code",
   "execution_count": 7,
   "id": "9bac0ccb",
   "metadata": {},
   "outputs": [],
   "source": [
    "class StrategyAnalyzer:\n",
    "    def __init__(self,backtest):\n",
    "        self.data = backtest.data\n",
    "        self.transactions = backtest.transactions_history\n",
    "        self.portfolio = backtest.porfolio_tracker\n",
    "    \n",
    "    def get_metrics(self):\n",
    "        self."
   ]
  },
  {
   "cell_type": "code",
   "execution_count": 20,
   "id": "8a657a7d",
   "metadata": {},
   "outputs": [],
   "source": [
    "from tqdm import tqdm"
   ]
  },
  {
   "cell_type": "code",
   "execution_count": 20,
   "id": "83bb120b",
   "metadata": {},
   "outputs": [],
   "source": [
    "m = pd.DataFrame()"
   ]
  },
  {
   "cell_type": "code",
   "execution_count": 21,
   "id": "c74ece35",
   "metadata": {},
   "outputs": [],
   "source": [
    "str(round((bt.transaction_history[bt.transaction_history.type == 0]['pnl']>0).mean(),4)*100)+'%'"
   ]
  },
  {
   "cell_type": "code",
   "execution_count": 22,
   "id": "61b18ce7",
   "metadata": {},
   "outputs": [
    {
     "data": {
      "text/html": [
       "<div>\n",
       "<style scoped>\n",
       "    .dataframe tbody tr th:only-of-type {\n",
       "        vertical-align: middle;\n",
       "    }\n",
       "\n",
       "    .dataframe tbody tr th {\n",
       "        vertical-align: top;\n",
       "    }\n",
       "\n",
       "    .dataframe thead th {\n",
       "        text-align: right;\n",
       "    }\n",
       "</style>\n",
       "<table border=\"1\" class=\"dataframe\">\n",
       "  <thead>\n",
       "    <tr style=\"text-align: right;\">\n",
       "      <th></th>\n",
       "      <th>Trading Precision</th>\n",
       "    </tr>\n",
       "  </thead>\n",
       "  <tbody>\n",
       "  </tbody>\n",
       "</table>\n",
       "</div>"
      ],
      "text/plain": [
       "Empty DataFrame\n",
       "Columns: [Trading Precision]\n",
       "Index: []"
      ]
     },
     "execution_count": 22,
     "metadata": {},
     "output_type": "execute_result"
    }
   ],
   "source": [
    "m"
   ]
  },
  {
   "cell_type": "code",
   "execution_count": null,
   "id": "e64b9cca",
   "metadata": {},
   "outputs": [],
   "source": []
  }
 ],
 "metadata": {
  "kernelspec": {
   "display_name": "Python 3 (ipykernel)",
   "language": "python",
   "name": "python3"
  },
  "language_info": {
   "codemirror_mode": {
    "name": "ipython",
    "version": 3
   },
   "file_extension": ".py",
   "mimetype": "text/x-python",
   "name": "python",
   "nbconvert_exporter": "python",
   "pygments_lexer": "ipython3",
   "version": "3.9.7"
  }
 },
 "nbformat": 4,
 "nbformat_minor": 5
}
