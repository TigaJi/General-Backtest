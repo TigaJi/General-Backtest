{
 "cells": [
  {
   "cell_type": "code",
   "execution_count": 1,
   "id": "8a223c66",
   "metadata": {},
   "outputs": [],
   "source": [
    "import sys\n",
    "#import Backtest\n",
    "from GeneralBacktest import Backtest,Bid,Position\n",
    "import pandas as pd\n",
    "import matplotlib.pyplot as plt\n",
    "import random\n",
    "import warnings\n",
    "import pickle\n",
    "import yfinance as yf\n",
    "#warnings.filterwarnings(\"ignore\")"
   ]
  },
  {
   "cell_type": "code",
   "execution_count": 4,
   "id": "c175d3c7",
   "metadata": {},
   "outputs": [],
   "source": [
    "class DemoStrategy:\n",
    "    def predict(ti,df,positions,cash,full_data):\n",
    "        bid_list = []\n",
    "\n",
    "        if ti.weekday() == 0:\n",
    "            bid = Bid(ticker = 'AAPL', shares = 100, price = df.iloc[-1]['AAPL'],bid_type = 1)\n",
    "\n",
    "            bid_list.append(bid)\n",
    "        \n",
    "        if ti.weekday() == 4:\n",
    "            bid = Bid(ticker = 'AAPL', shares = 100, price = df.iloc[-1]['AAPL'],bid_type = 0)\n",
    "\n",
    "            bid_list.append(bid)\n",
    "        \n",
    "        return bid_list"
   ]
  },
  {
   "cell_type": "markdown",
   "id": "f1d243c9",
   "metadata": {},
   "source": [
    "# Load sample data"
   ]
  },
  {
   "cell_type": "code",
   "execution_count": 2,
   "id": "7ffb2d57",
   "metadata": {},
   "outputs": [],
   "source": [
    "data = pd.read_csv(\"test_data.csv\",index_col = 0)\n",
    "data.index = pd.to_datetime(data.index)"
   ]
  },
  {
   "cell_type": "code",
   "execution_count": 5,
   "id": "64f7a549",
   "metadata": {},
   "outputs": [],
   "source": [
    "bt = Backtest(data, DemoStrategy)"
   ]
  },
  {
   "cell_type": "code",
   "execution_count": 6,
   "id": "671826e8",
   "metadata": {},
   "outputs": [
    {
     "name": "stdout",
     "output_type": "stream",
     "text": [
      "Try to sell 100 shares, but only got 0 shares.\n",
      "Try to sell 100 shares, but only got 0 shares.\n",
      "Try to sell 100 shares, but only got 0 shares.\n",
      "Try to sell 100 shares, but only got 0 shares.\n",
      "Try to sell 100 shares, but only got 0 shares.\n",
      "Try to sell 100 shares, but only got 0 shares.\n",
      "Try to sell 100 shares, but only got 0 shares.\n",
      "Try to sell 100 shares, but only got 0 shares.\n",
      "Try to sell 100 shares, but only got 0 shares.\n",
      "Try to sell 100 shares, but only got 0 shares.\n"
     ]
    }
   ],
   "source": [
    "bt.backtest_full()"
   ]
  },
  {
   "cell_type": "code",
   "execution_count": 7,
   "id": "9bac0ccb",
   "metadata": {},
   "outputs": [],
   "source": [
    "class StrategyAnalyzer:\n",
    "    def __init__(self,backtest):\n",
    "        self.data = backtest.data\n",
    "        self.transactions = backtest.transactions_history\n",
    "        self.portfolio = backtest.porfolio_tracker\n",
    "    \n",
    "    def pnl_distribu"
   ]
  },
  {
   "cell_type": "code",
   "execution_count": 12,
   "id": "efbde874",
   "metadata": {},
   "outputs": [
    {
     "name": "stdout",
     "output_type": "stream",
     "text": [
      "1297 days 00:00:00\n"
     ]
    }
   ],
   "source": [
    "print(str(data.index[-1] - data.index[0]))"
   ]
  },
  {
   "cell_type": "code",
   "execution_count": 17,
   "id": "9a1e9c23",
   "metadata": {},
   "outputs": [
    {
     "data": {
      "text/plain": [
       "DatetimeIndex(['2019-03-20', '2019-03-21', '2019-03-22', '2019-03-25',\n",
       "               '2019-03-26', '2019-03-27', '2019-03-28', '2019-03-29',\n",
       "               '2019-04-01', '2019-04-02',\n",
       "               ...\n",
       "               '2022-09-23', '2022-09-26', '2022-09-27', '2022-09-28',\n",
       "               '2022-09-29', '2022-09-30', '2022-10-03', '2022-10-04',\n",
       "               '2022-10-05', '2022-10-07'],\n",
       "              dtype='datetime64[ns]', name='Date', length=896, freq=None)"
      ]
     },
     "execution_count": 17,
     "metadata": {},
     "output_type": "execute_result"
    }
   ],
   "source": [
    "data.index"
   ]
  },
  {
   "cell_type": "code",
   "execution_count": null,
   "id": "cbc4ea7f",
   "metadata": {},
   "outputs": [],
   "source": []
  }
 ],
 "metadata": {
  "kernelspec": {
   "display_name": "Python 3 (ipykernel)",
   "language": "python",
   "name": "python3"
  },
  "language_info": {
   "codemirror_mode": {
    "name": "ipython",
    "version": 3
   },
   "file_extension": ".py",
   "mimetype": "text/x-python",
   "name": "python",
   "nbconvert_exporter": "python",
   "pygments_lexer": "ipython3",
   "version": "3.9.7"
  }
 },
 "nbformat": 4,
 "nbformat_minor": 5
}
