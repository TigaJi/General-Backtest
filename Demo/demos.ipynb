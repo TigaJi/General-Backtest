{
 "cells": [
  {
   "cell_type": "code",
   "execution_count": 1,
   "id": "2fde53b0",
   "metadata": {
    "scrolled": true
   },
   "outputs": [
    {
     "name": "stdout",
     "output_type": "stream",
     "text": [
      "\u001b[33mWARNING: Ignoring invalid distribution -andas (/Users/gideon/opt/anaconda3/lib/python3.9/site-packages)\u001b[0m\n",
      "\u001b[33mWARNING: Ignoring invalid distribution -andas (/Users/gideon/opt/anaconda3/lib/python3.9/site-packages)\u001b[0m\n",
      "Collecting GeneralBacktest\n",
      "  Cloning https://github.com/TigaJi/GeneralBacktest to /private/var/folders/qw/ly0bcf551mgdzlvs3rs3vqb80000gn/T/pip-install-8l5lc273/generalbacktest_4f63b52eab0c44d1a315781999090ba7\n",
      "  Running command git clone -q https://github.com/TigaJi/GeneralBacktest /private/var/folders/qw/ly0bcf551mgdzlvs3rs3vqb80000gn/T/pip-install-8l5lc273/generalbacktest_4f63b52eab0c44d1a315781999090ba7\n",
      "  Resolved https://github.com/TigaJi/GeneralBacktest to commit 0db79ea4f137e7bc4560bbde3fea093addf699bc\n",
      "Requirement already satisfied: numpy in /Users/gideon/opt/anaconda3/lib/python3.9/site-packages (from GeneralBacktest) (1.23.3)\n",
      "Requirement already satisfied: pandas in /Users/gideon/opt/anaconda3/lib/python3.9/site-packages (from GeneralBacktest) (1.5.0)\n",
      "Requirement already satisfied: pydrive in /Users/gideon/opt/anaconda3/lib/python3.9/site-packages (from GeneralBacktest) (1.3.1)\n",
      "Requirement already satisfied: oauth2client in /Users/gideon/opt/anaconda3/lib/python3.9/site-packages (from GeneralBacktest) (4.1.3)\n",
      "Requirement already satisfied: six>=1.6.1 in /Users/gideon/opt/anaconda3/lib/python3.9/site-packages (from oauth2client->GeneralBacktest) (1.16.0)\n",
      "Requirement already satisfied: pyasn1-modules>=0.0.5 in /Users/gideon/opt/anaconda3/lib/python3.9/site-packages (from oauth2client->GeneralBacktest) (0.2.8)\n",
      "Requirement already satisfied: pyasn1>=0.1.7 in /Users/gideon/opt/anaconda3/lib/python3.9/site-packages (from oauth2client->GeneralBacktest) (0.4.8)\n",
      "Requirement already satisfied: rsa>=3.1.4 in /Users/gideon/opt/anaconda3/lib/python3.9/site-packages (from oauth2client->GeneralBacktest) (4.9)\n",
      "Requirement already satisfied: httplib2>=0.9.1 in /Users/gideon/opt/anaconda3/lib/python3.9/site-packages (from oauth2client->GeneralBacktest) (0.20.4)\n",
      "Requirement already satisfied: pyparsing!=3.0.0,!=3.0.1,!=3.0.2,!=3.0.3,<4,>=2.4.2 in /Users/gideon/opt/anaconda3/lib/python3.9/site-packages (from httplib2>=0.9.1->oauth2client->GeneralBacktest) (3.0.9)\n",
      "Requirement already satisfied: python-dateutil>=2.8.1 in /Users/gideon/opt/anaconda3/lib/python3.9/site-packages (from pandas->GeneralBacktest) (2.8.2)\n",
      "Requirement already satisfied: pytz>=2020.1 in /Users/gideon/opt/anaconda3/lib/python3.9/site-packages (from pandas->GeneralBacktest) (2022.4)\n",
      "Requirement already satisfied: PyYAML>=3.0 in /Users/gideon/opt/anaconda3/lib/python3.9/site-packages (from pydrive->GeneralBacktest) (6.0)\n",
      "Requirement already satisfied: google-api-python-client>=1.2 in /Users/gideon/opt/anaconda3/lib/python3.9/site-packages (from pydrive->GeneralBacktest) (2.64.0)\n",
      "Requirement already satisfied: google-api-core!=2.0.*,!=2.1.*,!=2.2.*,!=2.3.0,<3.0.0dev,>=1.31.5 in /Users/gideon/opt/anaconda3/lib/python3.9/site-packages (from google-api-python-client>=1.2->pydrive->GeneralBacktest) (2.10.2)\n",
      "Requirement already satisfied: google-auth<3.0.0dev,>=1.19.0 in /Users/gideon/opt/anaconda3/lib/python3.9/site-packages (from google-api-python-client>=1.2->pydrive->GeneralBacktest) (2.12.0)\n",
      "Requirement already satisfied: uritemplate<5,>=3.0.1 in /Users/gideon/opt/anaconda3/lib/python3.9/site-packages (from google-api-python-client>=1.2->pydrive->GeneralBacktest) (4.1.1)\n",
      "Requirement already satisfied: google-auth-httplib2>=0.1.0 in /Users/gideon/opt/anaconda3/lib/python3.9/site-packages (from google-api-python-client>=1.2->pydrive->GeneralBacktest) (0.1.0)\n",
      "Requirement already satisfied: protobuf!=3.20.0,!=3.20.1,!=4.21.0,!=4.21.1,!=4.21.2,!=4.21.3,!=4.21.4,!=4.21.5,<5.0.0dev,>=3.19.5 in /Users/gideon/opt/anaconda3/lib/python3.9/site-packages (from google-api-core!=2.0.*,!=2.1.*,!=2.2.*,!=2.3.0,<3.0.0dev,>=1.31.5->google-api-python-client>=1.2->pydrive->GeneralBacktest) (4.21.7)\n",
      "Requirement already satisfied: googleapis-common-protos<2.0dev,>=1.56.2 in /Users/gideon/opt/anaconda3/lib/python3.9/site-packages (from google-api-core!=2.0.*,!=2.1.*,!=2.2.*,!=2.3.0,<3.0.0dev,>=1.31.5->google-api-python-client>=1.2->pydrive->GeneralBacktest) (1.56.4)\n",
      "Requirement already satisfied: requests<3.0.0dev,>=2.18.0 in /Users/gideon/opt/anaconda3/lib/python3.9/site-packages (from google-api-core!=2.0.*,!=2.1.*,!=2.2.*,!=2.3.0,<3.0.0dev,>=1.31.5->google-api-python-client>=1.2->pydrive->GeneralBacktest) (2.28.1)\n",
      "Requirement already satisfied: cachetools<6.0,>=2.0.0 in /Users/gideon/opt/anaconda3/lib/python3.9/site-packages (from google-auth<3.0.0dev,>=1.19.0->google-api-python-client>=1.2->pydrive->GeneralBacktest) (5.2.0)\n",
      "Requirement already satisfied: certifi>=2017.4.17 in /Users/gideon/opt/anaconda3/lib/python3.9/site-packages (from requests<3.0.0dev,>=2.18.0->google-api-core!=2.0.*,!=2.1.*,!=2.2.*,!=2.3.0,<3.0.0dev,>=1.31.5->google-api-python-client>=1.2->pydrive->GeneralBacktest) (2022.9.24)\n",
      "Requirement already satisfied: idna<4,>=2.5 in /Users/gideon/opt/anaconda3/lib/python3.9/site-packages (from requests<3.0.0dev,>=2.18.0->google-api-core!=2.0.*,!=2.1.*,!=2.2.*,!=2.3.0,<3.0.0dev,>=1.31.5->google-api-python-client>=1.2->pydrive->GeneralBacktest) (3.4)\n",
      "Requirement already satisfied: charset-normalizer<3,>=2 in /Users/gideon/opt/anaconda3/lib/python3.9/site-packages (from requests<3.0.0dev,>=2.18.0->google-api-core!=2.0.*,!=2.1.*,!=2.2.*,!=2.3.0,<3.0.0dev,>=1.31.5->google-api-python-client>=1.2->pydrive->GeneralBacktest) (2.1.1)\n",
      "Requirement already satisfied: urllib3<1.27,>=1.21.1 in /Users/gideon/opt/anaconda3/lib/python3.9/site-packages (from requests<3.0.0dev,>=2.18.0->google-api-core!=2.0.*,!=2.1.*,!=2.2.*,!=2.3.0,<3.0.0dev,>=1.31.5->google-api-python-client>=1.2->pydrive->GeneralBacktest) (1.26.12)\n",
      "Building wheels for collected packages: GeneralBacktest\n",
      "  Building wheel for GeneralBacktest (setup.py) ... \u001b[?25ldone\n",
      "\u001b[?25h  Created wheel for GeneralBacktest: filename=GeneralBacktest-0.1-py3-none-any.whl size=7305 sha256=49dd3596639238dab255e60060554e7011bc31a90bcb28831253b78c5557fce6\n",
      "  Stored in directory: /private/var/folders/qw/ly0bcf551mgdzlvs3rs3vqb80000gn/T/pip-ephem-wheel-cache-mhrut46_/wheels/a3/c4/21/553f7e7356c7617ea7b20d0262f70d14cc427a448cd002b912\n",
      "Successfully built GeneralBacktest\n",
      "\u001b[33mWARNING: Ignoring invalid distribution -andas (/Users/gideon/opt/anaconda3/lib/python3.9/site-packages)\u001b[0m\n",
      "Installing collected packages: GeneralBacktest\n",
      "\u001b[33mWARNING: Ignoring invalid distribution -andas (/Users/gideon/opt/anaconda3/lib/python3.9/site-packages)\u001b[0m\n",
      "Successfully installed GeneralBacktest-0.1\n",
      "\u001b[33mWARNING: Ignoring invalid distribution -andas (/Users/gideon/opt/anaconda3/lib/python3.9/site-packages)\u001b[0m\n",
      "\u001b[33mWARNING: Ignoring invalid distribution -andas (/Users/gideon/opt/anaconda3/lib/python3.9/site-packages)\u001b[0m\n",
      "\u001b[33mWARNING: Ignoring invalid distribution -andas (/Users/gideon/opt/anaconda3/lib/python3.9/site-packages)\u001b[0m\n",
      "Note: you may need to restart the kernel to use updated packages.\n"
     ]
    }
   ],
   "source": [
    "pip install git+https://github.com/TigaJi/GeneralBacktest#egg=GeneralBacktest"
   ]
  },
  {
   "cell_type": "code",
   "execution_count": 8,
   "id": "8a223c66",
   "metadata": {},
   "outputs": [],
   "source": [
    "import sys\n",
    "#import Backtest\n",
    "from GeneralBacktest import Backtest,Bid,Position\n",
    "import pandas as pd\n",
    "import matplotlib.pyplot as plt\n",
    "import random\n",
    "import warnings\n",
    "import pickle\n",
    "import yfinance as yf\n",
    "#warnings.filterwarnings(\"ignore\")"
   ]
  },
  {
   "cell_type": "markdown",
   "id": "98ee0265",
   "metadata": {},
   "source": [
    "# Bid Class Demo\n",
    "## intialize a Bid instance with four variables\n",
    "- ticker\n",
    "- shares\n",
    "- price\n",
    "- bid_type (1 as buy, 0 as sell)\n"
   ]
  },
  {
   "cell_type": "code",
   "execution_count": 9,
   "id": "9ce11756",
   "metadata": {},
   "outputs": [
    {
     "name": "stdout",
     "output_type": "stream",
     "text": [
      "---------------\n",
      "Buying:\n",
      "Ticker: AAPL\n",
      "Shares: 100\n",
      "Price: 163.43\n",
      "---------------\n"
     ]
    }
   ],
   "source": [
    "# a bid to buy 100 shares of Apple at $163.43\n",
    "buy_apple_100 = Bid(ticker = \"AAPL\", shares = 100, price = 163.43, bid_type = 1)\n",
    "\n",
    "#the show method could be used for debugging\n",
    "buy_apple_100.show()"
   ]
  },
  {
   "cell_type": "markdown",
   "id": "d60268e7",
   "metadata": {},
   "source": [
    "# "
   ]
  },
  {
   "cell_type": "markdown",
   "id": "4ee9135b",
   "metadata": {},
   "source": [
    "# Position class demo\n",
    "## intialize a Position  instance with a bid instance"
   ]
  },
  {
   "cell_type": "code",
   "execution_count": 3,
   "id": "5a439df5",
   "metadata": {},
   "outputs": [
    {
     "name": "stdout",
     "output_type": "stream",
     "text": [
      "Ticker: AAPL\n",
      "Shares_held: 100\n",
      "Latest_price: 163.43\n",
      "weighted_average_cost: 163.43\n",
      "----------------\n",
      "Purchasing History\n",
      "Price\tShares\n",
      "163.43\t100\n"
     ]
    }
   ],
   "source": [
    "apple_position = Position(buy_apple_100)\n",
    "apple_position.show()"
   ]
  },
  {
   "cell_type": "markdown",
   "id": "41f0c9dd",
   "metadata": {},
   "source": [
    "## Change the position with another bid"
   ]
  },
  {
   "cell_type": "code",
   "execution_count": 4,
   "id": "116919df",
   "metadata": {},
   "outputs": [
    {
     "name": "stdout",
     "output_type": "stream",
     "text": [
      "Ticker: AAPL\n",
      "Shares_held: 150\n",
      "Latest_price: 163.13\n",
      "weighted_average_cost: 163.33\n",
      "----------------\n",
      "Purchasing History\n",
      "Price\tShares\n",
      "163.43\t100\n",
      "163.13\t50\n"
     ]
    }
   ],
   "source": [
    "buy_apple_50 = Bid(ticker = \"AAPL\", shares = 50, price = 163.13, bid_type = 1)\n",
    "apple_position.change_position(buy_apple_50)\n",
    "apple_position.show()"
   ]
  },
  {
   "cell_type": "markdown",
   "id": "703172fa",
   "metadata": {},
   "source": [
    "## Selling a stock"
   ]
  },
  {
   "cell_type": "code",
   "execution_count": 5,
   "id": "2cad5b73",
   "metadata": {},
   "outputs": [
    {
     "name": "stdout",
     "output_type": "stream",
     "text": [
      "Ticker: AAPL\n",
      "Shares_held: 50\n",
      "Latest_price: 165.24\n",
      "weighted_average_cost: 163.43\n",
      "----------------\n",
      "Purchasing History\n",
      "Price\tShares\n",
      "163.43\t50\n"
     ]
    }
   ],
   "source": [
    "sell_apple_100 = Bid(ticker = 'AAPL', shares = 100, price = 165.24, bid_type = 0)\n",
    "\n",
    "#if selling a stock, the change_position method will return a cost\n",
    "#this cost will be the lowest part of costs in purchasing history \n",
    "cost_of_buying_100 = apple_position.change_position(sell_apple_100)\n",
    "apple_position.show()"
   ]
  },
  {
   "cell_type": "code",
   "execution_count": 6,
   "id": "1589e46b",
   "metadata": {},
   "outputs": [
    {
     "name": "stdout",
     "output_type": "stream",
     "text": [
      "Income:  16524.0\n",
      "Cost:  16328.0\n",
      "Pnl for this single trade:  196.0\n"
     ]
    }
   ],
   "source": [
    "income = sell_apple_100.shares * sell_apple_100.price\n",
    "print(\"Income: \", income)\n",
    "print(\"Cost: \", cost_of_buying_100)\n",
    "print(\"Pnl for this single trade: \", income - cost_of_buying_100 )"
   ]
  },
  {
   "cell_type": "code",
   "execution_count": 7,
   "id": "5fd86639",
   "metadata": {},
   "outputs": [
    {
     "name": "stdout",
     "output_type": "stream",
     "text": [
      "Try to sell 100 shares, but only got 50 shares.\n"
     ]
    },
    {
     "data": {
      "text/plain": [
       "-1"
      ]
     },
     "execution_count": 7,
     "metadata": {},
     "output_type": "execute_result"
    }
   ],
   "source": [
    "apple_position.change_position(sell_apple_100)"
   ]
  },
  {
   "cell_type": "markdown",
   "id": "a2e9a8dc",
   "metadata": {},
   "source": [
    "# A demo strategy\n",
    "## Randomly buy 10 stocks every Monday and sell on Friday\n",
    "## a strategy is defined as a class, and it must have a predict method that returns a list of Bid instances\n",
    "## a strategy function has five parameters, which are:\n",
    "- ti: current datetime \n",
    "- df: all historical data up to ti\n",
    "- positions: a dictionary of all current positions (k: string of ticker, v: an instance of this ticker's Position)\n",
    "- cash: cash avaliable\n",
    "- full_data: dataframe with OHLCV\n",
    "\n",
    "## *This is the part where you implement your strategy"
   ]
  },
  {
   "cell_type": "code",
   "execution_count": 3,
   "id": "c175d3c7",
   "metadata": {},
   "outputs": [],
   "source": [
    "class DemoStrategy:\n",
    "    def predict(ti,df,positions,cash,full_data):\n",
    "        bid_list = []\n",
    "\n",
    "        if ti.weekday() == 0:\n",
    "            bid = Bid(ticker = 'AAPL', shares = 100, price = df.iloc[-1]['AAPL'],bid_type = 1)\n",
    "\n",
    "            bid_list.append(bid)\n",
    "        \n",
    "        if ti.weekday() == 4:\n",
    "            bid = Bid(ticker = 'AAPL', shares = 100, price = df.iloc[-1]['AAPL'],bid_type = 0)\n",
    "\n",
    "            bid_list.append(bid)\n",
    "        \n",
    "        return bid_list"
   ]
  },
  {
   "cell_type": "markdown",
   "id": "f1d243c9",
   "metadata": {},
   "source": [
    "# Load sample data"
   ]
  },
  {
   "cell_type": "code",
   "execution_count": 4,
   "id": "7ffb2d57",
   "metadata": {},
   "outputs": [],
   "source": [
    "def get_data(tickers,length,interval):\n",
    "    data =  yf.download(tickers = tickers, \n",
    "    period = length, interval = interval, group_by = 'ticker',\n",
    "    auto_adjust = True,\n",
    "    prepost = False,\n",
    "    threads = True,\n",
    "    proxy = None\n",
    ")\n",
    "\n",
    "    data = data.loc[:, pd.IndexSlice[:, ['Close']]]\n",
    "\n",
    "    columns = data.columns.droplevel(1)\n",
    "\n",
    "    data.columns = columns \n",
    "\n",
    "    data.sort_index(axis = 1, inplace = True)\n",
    "    #data = data.reset_index(drop = True)\n",
    "    return data.dropna()"
   ]
  },
  {
   "cell_type": "code",
   "execution_count": 5,
   "id": "29d461d1",
   "metadata": {},
   "outputs": [
    {
     "name": "stdout",
     "output_type": "stream",
     "text": [
      "[*********************100%***********************]  100 of 100 completed\n"
     ]
    }
   ],
   "source": [
    "with open(\"sp100tickers.pickle\", \"rb\") as f:\n",
    "    tickers = pickle.load(f)\n",
    "data = get_data(tickers,'5y','1d')"
   ]
  },
  {
   "cell_type": "markdown",
   "id": "8925786c",
   "metadata": {},
   "source": [
    "# Backtest Demo\n",
    "## initialize a Backtest instance with data and strategy, in default:\n",
    "- initial_amount = 100000\n",
    "- has_tc = True (0.2% of transaction cost)"
   ]
  },
  {
   "cell_type": "code",
   "execution_count": 10,
   "id": "64f7a549",
   "metadata": {},
   "outputs": [],
   "source": [
    "random_strat = Backtest(data, DemoStrategy)"
   ]
  },
  {
   "cell_type": "code",
   "execution_count": 11,
   "id": "671826e8",
   "metadata": {},
   "outputs": [
    {
     "name": "stdout",
     "output_type": "stream",
     "text": [
      "Try to sell 100 shares, but only got 0 shares.\n",
      "Try to sell 100 shares, but only got 0 shares.\n",
      "Try to sell 100 shares, but only got 0 shares.\n",
      "Try to sell 100 shares, but only got 0 shares.\n",
      "Try to sell 100 shares, but only got 0 shares.\n",
      "Try to sell 100 shares, but only got 0 shares.\n",
      "Try to sell 100 shares, but only got 0 shares.\n",
      "Try to sell 100 shares, but only got 0 shares.\n",
      "Try to sell 100 shares, but only got 0 shares.\n",
      "Try to sell 100 shares, but only got 0 shares.\n"
     ]
    }
   ],
   "source": [
    "random_strat.backtest_full()"
   ]
  },
  {
   "cell_type": "markdown",
   "id": "7b00de8c",
   "metadata": {},
   "source": [
    "# After backtest, check all historical transactions with transaction_history, a dataframe that recorded each bid, its transaction cost and pnl."
   ]
  },
  {
   "cell_type": "code",
   "execution_count": 12,
   "id": "3b2e597f",
   "metadata": {},
   "outputs": [
    {
     "data": {
      "text/html": [
       "<div>\n",
       "<style scoped>\n",
       "    .dataframe tbody tr th:only-of-type {\n",
       "        vertical-align: middle;\n",
       "    }\n",
       "\n",
       "    .dataframe tbody tr th {\n",
       "        vertical-align: top;\n",
       "    }\n",
       "\n",
       "    .dataframe thead th {\n",
       "        text-align: right;\n",
       "    }\n",
       "</style>\n",
       "<table border=\"1\" class=\"dataframe\">\n",
       "  <thead>\n",
       "    <tr style=\"text-align: right;\">\n",
       "      <th></th>\n",
       "      <th>dt</th>\n",
       "      <th>ticker</th>\n",
       "      <th>type</th>\n",
       "      <th>price</th>\n",
       "      <th>shares</th>\n",
       "      <th>amount</th>\n",
       "      <th>transaction_cost</th>\n",
       "      <th>pnl</th>\n",
       "    </tr>\n",
       "  </thead>\n",
       "  <tbody>\n",
       "    <tr>\n",
       "      <th>0</th>\n",
       "      <td>2019-03-25</td>\n",
       "      <td>AAPL</td>\n",
       "      <td>1</td>\n",
       "      <td>45.813007</td>\n",
       "      <td>100</td>\n",
       "      <td>4581.300735</td>\n",
       "      <td>0.0</td>\n",
       "      <td>0.000000</td>\n",
       "    </tr>\n",
       "    <tr>\n",
       "      <th>1</th>\n",
       "      <td>2019-03-29</td>\n",
       "      <td>AAPL</td>\n",
       "      <td>0</td>\n",
       "      <td>46.106720</td>\n",
       "      <td>100</td>\n",
       "      <td>4610.671997</td>\n",
       "      <td>0.0</td>\n",
       "      <td>29.371262</td>\n",
       "    </tr>\n",
       "    <tr>\n",
       "      <th>2</th>\n",
       "      <td>2019-04-01</td>\n",
       "      <td>AAPL</td>\n",
       "      <td>1</td>\n",
       "      <td>46.419838</td>\n",
       "      <td>100</td>\n",
       "      <td>4641.983795</td>\n",
       "      <td>0.0</td>\n",
       "      <td>0.000000</td>\n",
       "    </tr>\n",
       "    <tr>\n",
       "      <th>3</th>\n",
       "      <td>2019-04-05</td>\n",
       "      <td>AAPL</td>\n",
       "      <td>0</td>\n",
       "      <td>47.817966</td>\n",
       "      <td>100</td>\n",
       "      <td>4781.796646</td>\n",
       "      <td>0.0</td>\n",
       "      <td>139.812851</td>\n",
       "    </tr>\n",
       "    <tr>\n",
       "      <th>4</th>\n",
       "      <td>2019-04-08</td>\n",
       "      <td>AAPL</td>\n",
       "      <td>1</td>\n",
       "      <td>48.570427</td>\n",
       "      <td>100</td>\n",
       "      <td>4857.042694</td>\n",
       "      <td>0.0</td>\n",
       "      <td>0.000000</td>\n",
       "    </tr>\n",
       "    <tr>\n",
       "      <th>...</th>\n",
       "      <td>...</td>\n",
       "      <td>...</td>\n",
       "      <td>...</td>\n",
       "      <td>...</td>\n",
       "      <td>...</td>\n",
       "      <td>...</td>\n",
       "      <td>...</td>\n",
       "      <td>...</td>\n",
       "    </tr>\n",
       "    <tr>\n",
       "      <th>333</th>\n",
       "      <td>2022-09-30</td>\n",
       "      <td>AAPL</td>\n",
       "      <td>0</td>\n",
       "      <td>138.199997</td>\n",
       "      <td>100</td>\n",
       "      <td>13819.999695</td>\n",
       "      <td>0.0</td>\n",
       "      <td>-1257.000732</td>\n",
       "    </tr>\n",
       "    <tr>\n",
       "      <th>334</th>\n",
       "      <td>2022-10-03</td>\n",
       "      <td>AAPL</td>\n",
       "      <td>1</td>\n",
       "      <td>142.449997</td>\n",
       "      <td>100</td>\n",
       "      <td>14244.999695</td>\n",
       "      <td>0.0</td>\n",
       "      <td>0.000000</td>\n",
       "    </tr>\n",
       "    <tr>\n",
       "      <th>335</th>\n",
       "      <td>2022-10-07</td>\n",
       "      <td>AAPL</td>\n",
       "      <td>0</td>\n",
       "      <td>140.089996</td>\n",
       "      <td>100</td>\n",
       "      <td>14008.999634</td>\n",
       "      <td>0.0</td>\n",
       "      <td>-236.000061</td>\n",
       "    </tr>\n",
       "    <tr>\n",
       "      <th>336</th>\n",
       "      <td>2022-10-10</td>\n",
       "      <td>AAPL</td>\n",
       "      <td>1</td>\n",
       "      <td>140.419998</td>\n",
       "      <td>100</td>\n",
       "      <td>14041.999817</td>\n",
       "      <td>0.0</td>\n",
       "      <td>0.000000</td>\n",
       "    </tr>\n",
       "    <tr>\n",
       "      <th>337</th>\n",
       "      <td>2022-10-10</td>\n",
       "      <td>AAPL</td>\n",
       "      <td>0</td>\n",
       "      <td>140.419998</td>\n",
       "      <td>100</td>\n",
       "      <td>14041.999817</td>\n",
       "      <td>0.0</td>\n",
       "      <td>0.000000</td>\n",
       "    </tr>\n",
       "  </tbody>\n",
       "</table>\n",
       "<p>338 rows × 8 columns</p>\n",
       "</div>"
      ],
      "text/plain": [
       "            dt ticker  type       price  shares        amount  \\\n",
       "0   2019-03-25   AAPL     1   45.813007     100   4581.300735   \n",
       "1   2019-03-29   AAPL     0   46.106720     100   4610.671997   \n",
       "2   2019-04-01   AAPL     1   46.419838     100   4641.983795   \n",
       "3   2019-04-05   AAPL     0   47.817966     100   4781.796646   \n",
       "4   2019-04-08   AAPL     1   48.570427     100   4857.042694   \n",
       "..         ...    ...   ...         ...     ...           ...   \n",
       "333 2022-09-30   AAPL     0  138.199997     100  13819.999695   \n",
       "334 2022-10-03   AAPL     1  142.449997     100  14244.999695   \n",
       "335 2022-10-07   AAPL     0  140.089996     100  14008.999634   \n",
       "336 2022-10-10   AAPL     1  140.419998     100  14041.999817   \n",
       "337 2022-10-10   AAPL     0  140.419998     100  14041.999817   \n",
       "\n",
       "     transaction_cost          pnl  \n",
       "0                 0.0     0.000000  \n",
       "1                 0.0    29.371262  \n",
       "2                 0.0     0.000000  \n",
       "3                 0.0   139.812851  \n",
       "4                 0.0     0.000000  \n",
       "..                ...          ...  \n",
       "333               0.0 -1257.000732  \n",
       "334               0.0     0.000000  \n",
       "335               0.0  -236.000061  \n",
       "336               0.0     0.000000  \n",
       "337               0.0     0.000000  \n",
       "\n",
       "[338 rows x 8 columns]"
      ]
     },
     "execution_count": 12,
     "metadata": {},
     "output_type": "execute_result"
    }
   ],
   "source": [
    "random_strat.transaction_history"
   ]
  },
  {
   "cell_type": "code",
   "execution_count": 13,
   "id": "65311b98",
   "metadata": {},
   "outputs": [
    {
     "name": "stdout",
     "output_type": "stream",
     "text": [
      "Total Transaction cost: 0.0\n"
     ]
    }
   ],
   "source": [
    "print(\"Total Transaction cost:\", random_strat.transaction_history['transaction_cost'].sum())"
   ]
  },
  {
   "cell_type": "code",
   "execution_count": 14,
   "id": "cd77c815",
   "metadata": {},
   "outputs": [
    {
     "data": {
      "text/plain": [
       "<AxesSubplot:>"
      ]
     },
     "execution_count": 14,
     "metadata": {},
     "output_type": "execute_result"
    },
    {
     "data": {
      "image/png": "[encoded data removed]",
      "text/plain": [
       "<Figure size 432x288 with 1 Axes>"
      ]
     },
     "metadata": {
      "needs_background": "light"
     },
     "output_type": "display_data"
    }
   ],
   "source": [
    "#histogram of pnl\n",
    "random_strat.transaction_history[random_strat.transaction_history.type ==0]['pnl'].hist(bins = 50)"
   ]
  },
  {
   "cell_type": "markdown",
   "id": "afb4df13",
   "metadata": {},
   "source": [
    "# The portfolio_tracker records the # of bids, length of positions, cash value, position value, total value at each ti. \n",
    "# The bah column is the value assuming we buy all the tickers when it begins"
   ]
  },
  {
   "cell_type": "code",
   "execution_count": 15,
   "id": "c2d2a42a",
   "metadata": {},
   "outputs": [
    {
     "data": {
      "text/html": [
       "<div>\n",
       "<style scoped>\n",
       "    .dataframe tbody tr th:only-of-type {\n",
       "        vertical-align: middle;\n",
       "    }\n",
       "\n",
       "    .dataframe tbody tr th {\n",
       "        vertical-align: top;\n",
       "    }\n",
       "\n",
       "    .dataframe thead th {\n",
       "        text-align: right;\n",
       "    }\n",
       "</style>\n",
       "<table border=\"1\" class=\"dataframe\">\n",
       "  <thead>\n",
       "    <tr style=\"text-align: right;\">\n",
       "      <th></th>\n",
       "      <th>dt</th>\n",
       "      <th>bid_count</th>\n",
       "      <th>position_count</th>\n",
       "      <th>cash_value</th>\n",
       "      <th>positions_value</th>\n",
       "      <th>total_value</th>\n",
       "      <th>bah</th>\n",
       "    </tr>\n",
       "  </thead>\n",
       "  <tbody>\n",
       "    <tr>\n",
       "      <th>0</th>\n",
       "      <td>2019-03-20</td>\n",
       "      <td>0</td>\n",
       "      <td>0</td>\n",
       "      <td>100000.000000</td>\n",
       "      <td>0.000000</td>\n",
       "      <td>100000.000000</td>\n",
       "      <td>100000.000000</td>\n",
       "    </tr>\n",
       "    <tr>\n",
       "      <th>1</th>\n",
       "      <td>2019-03-21</td>\n",
       "      <td>0</td>\n",
       "      <td>0</td>\n",
       "      <td>100000.000000</td>\n",
       "      <td>0.000000</td>\n",
       "      <td>100000.000000</td>\n",
       "      <td>100954.472499</td>\n",
       "    </tr>\n",
       "    <tr>\n",
       "      <th>2</th>\n",
       "      <td>2019-03-22</td>\n",
       "      <td>1</td>\n",
       "      <td>0</td>\n",
       "      <td>100000.000000</td>\n",
       "      <td>0.000000</td>\n",
       "      <td>100000.000000</td>\n",
       "      <td>99110.449786</td>\n",
       "    </tr>\n",
       "    <tr>\n",
       "      <th>3</th>\n",
       "      <td>2019-03-25</td>\n",
       "      <td>1</td>\n",
       "      <td>1</td>\n",
       "      <td>95418.699265</td>\n",
       "      <td>4581.300735</td>\n",
       "      <td>100000.000000</td>\n",
       "      <td>99028.806691</td>\n",
       "    </tr>\n",
       "    <tr>\n",
       "      <th>4</th>\n",
       "      <td>2019-03-26</td>\n",
       "      <td>0</td>\n",
       "      <td>1</td>\n",
       "      <td>95418.699265</td>\n",
       "      <td>4533.968735</td>\n",
       "      <td>99952.667999</td>\n",
       "      <td>99948.807282</td>\n",
       "    </tr>\n",
       "    <tr>\n",
       "      <th>...</th>\n",
       "      <td>...</td>\n",
       "      <td>...</td>\n",
       "      <td>...</td>\n",
       "      <td>...</td>\n",
       "      <td>...</td>\n",
       "      <td>...</td>\n",
       "      <td>...</td>\n",
       "    </tr>\n",
       "    <tr>\n",
       "      <th>893</th>\n",
       "      <td>2022-10-04</td>\n",
       "      <td>0</td>\n",
       "      <td>1</td>\n",
       "      <td>89816.494370</td>\n",
       "      <td>14610.000610</td>\n",
       "      <td>104426.494980</td>\n",
       "      <td>152403.250949</td>\n",
       "    </tr>\n",
       "    <tr>\n",
       "      <th>894</th>\n",
       "      <td>2022-10-05</td>\n",
       "      <td>0</td>\n",
       "      <td>1</td>\n",
       "      <td>89816.494370</td>\n",
       "      <td>14639.999390</td>\n",
       "      <td>104456.493759</td>\n",
       "      <td>151698.102745</td>\n",
       "    </tr>\n",
       "    <tr>\n",
       "      <th>895</th>\n",
       "      <td>2022-10-06</td>\n",
       "      <td>0</td>\n",
       "      <td>1</td>\n",
       "      <td>89816.494370</td>\n",
       "      <td>14542.999268</td>\n",
       "      <td>104359.493637</td>\n",
       "      <td>149984.871552</td>\n",
       "    </tr>\n",
       "    <tr>\n",
       "      <th>896</th>\n",
       "      <td>2022-10-07</td>\n",
       "      <td>1</td>\n",
       "      <td>0</td>\n",
       "      <td>103825.494003</td>\n",
       "      <td>0.000000</td>\n",
       "      <td>103825.494003</td>\n",
       "      <td>145808.888150</td>\n",
       "    </tr>\n",
       "    <tr>\n",
       "      <th>897</th>\n",
       "      <td>2022-10-10</td>\n",
       "      <td>1</td>\n",
       "      <td>1</td>\n",
       "      <td>89783.494186</td>\n",
       "      <td>14041.999817</td>\n",
       "      <td>103825.494003</td>\n",
       "      <td>144784.349502</td>\n",
       "    </tr>\n",
       "  </tbody>\n",
       "</table>\n",
       "<p>898 rows × 7 columns</p>\n",
       "</div>"
      ],
      "text/plain": [
       "            dt  bid_count  position_count     cash_value  positions_value  \\\n",
       "0   2019-03-20          0               0  100000.000000         0.000000   \n",
       "1   2019-03-21          0               0  100000.000000         0.000000   \n",
       "2   2019-03-22          1               0  100000.000000         0.000000   \n",
       "3   2019-03-25          1               1   95418.699265      4581.300735   \n",
       "4   2019-03-26          0               1   95418.699265      4533.968735   \n",
       "..         ...        ...             ...            ...              ...   \n",
       "893 2022-10-04          0               1   89816.494370     14610.000610   \n",
       "894 2022-10-05          0               1   89816.494370     14639.999390   \n",
       "895 2022-10-06          0               1   89816.494370     14542.999268   \n",
       "896 2022-10-07          1               0  103825.494003         0.000000   \n",
       "897 2022-10-10          1               1   89783.494186     14041.999817   \n",
       "\n",
       "       total_value            bah  \n",
       "0    100000.000000  100000.000000  \n",
       "1    100000.000000  100954.472499  \n",
       "2    100000.000000   99110.449786  \n",
       "3    100000.000000   99028.806691  \n",
       "4     99952.667999   99948.807282  \n",
       "..             ...            ...  \n",
       "893  104426.494980  152403.250949  \n",
       "894  104456.493759  151698.102745  \n",
       "895  104359.493637  149984.871552  \n",
       "896  103825.494003  145808.888150  \n",
       "897  103825.494003  144784.349502  \n",
       "\n",
       "[898 rows x 7 columns]"
      ]
     },
     "execution_count": 15,
     "metadata": {},
     "output_type": "execute_result"
    }
   ],
   "source": [
    "random_strat.portfolio_tracker"
   ]
  },
  {
   "cell_type": "code",
   "execution_count": 16,
   "id": "223337bd",
   "metadata": {},
   "outputs": [
    {
     "data": {
      "image/png": "[encoded data removed]",
      "text/plain": [
       "<Figure size 432x288 with 1 Axes>"
      ]
     },
     "metadata": {
      "needs_background": "light"
     },
     "output_type": "display_data"
    }
   ],
   "source": [
    "random_strat.plot()"
   ]
  },
  {
   "cell_type": "markdown",
   "id": "31026750",
   "metadata": {},
   "source": [
    "# "
   ]
  },
  {
   "cell_type": "markdown",
   "id": "ea14748a",
   "metadata": {},
   "source": [
    "# Upload to dashboard\n",
    "## the upload_to_dashboard method will upload this graph to dashboard.\n",
    "## make sure the crediential file \"algo-trade-dashboard-80cae071e907.json\" is under current directory, also install the related packages in requirements.txt\n",
    "\n",
    "## to upload, call the function with the strategy name, if the name already exist in the gcloud, the previous data will be overwritten"
   ]
  },
  {
   "cell_type": "code",
   "execution_count": 15,
   "id": "fba5374b",
   "metadata": {},
   "outputs": [
    {
     "name": "stdout",
     "output_type": "stream",
     "text": [
      "Data uploaded.\n"
     ]
    }
   ],
   "source": [
    "random_strat.upload_to_dashboard(\"random_demo_0912\")"
   ]
  },
  {
   "cell_type": "markdown",
   "id": "4ebd21bd",
   "metadata": {},
   "source": [
    "# Check on dashboard:\n",
    "https://tigaji-algo-trade-dashboard-dashboard-gv8r0a.streamlitapp.com/"
   ]
  },
  {
   "cell_type": "code",
   "execution_count": null,
   "id": "9bac0ccb",
   "metadata": {},
   "outputs": [],
   "source": []
  }
 ],
 "metadata": {
  "kernelspec": {
   "display_name": "Python 3 (ipykernel)",
   "language": "python",
   "name": "python3"
  },
  "language_info": {
   "codemirror_mode": {
    "name": "ipython",
    "version": 3
   },
   "file_extension": ".py",
   "mimetype": "text/x-python",
   "name": "python",
   "nbconvert_exporter": "python",
   "pygments_lexer": "ipython3",
   "version": "3.9.7"
  }
 },
 "nbformat": 4,
 "nbformat_minor": 5
}
