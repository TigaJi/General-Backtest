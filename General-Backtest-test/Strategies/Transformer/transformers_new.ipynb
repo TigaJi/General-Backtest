{
 "cells": [
  {
   "cell_type": "code",
   "execution_count": 1,
   "id": "8d48c14b",
   "metadata": {},
   "outputs": [
    {
     "name": "stdout",
     "output_type": "stream",
     "text": [
      "Tensorflow version: 2.9.1\n"
     ]
    }
   ],
   "source": [
    "import numpy as np\n",
    "import pandas as pd\n",
    "import os, datetime\n",
    "import tensorflow as tf\n",
    "from tensorflow.keras.models import *\n",
    "from tensorflow.keras.layers import *\n",
    "print('Tensorflow version: {}'.format(tf.__version__))\n",
    "from tensorflow.keras.callbacks import EarlyStopping\n",
    "import matplotlib.pyplot as plt\n",
    "plt.style.use('seaborn')\n",
    "\n",
    "import warnings\n",
    "warnings.filterwarnings('ignore')"
   ]
  },
  {
   "cell_type": "code",
   "execution_count": 3,
   "id": "ae744983-6da4-4710-9ff3-0a0a1dbb983d",
   "metadata": {},
   "outputs": [
    {
     "name": "stdout",
     "output_type": "stream",
     "text": [
      "[name: \"/device:CPU:0\"\n",
      "device_type: \"CPU\"\n",
      "memory_limit: 268435456\n",
      "locality {\n",
      "}\n",
      "incarnation: 14270178476427013278\n",
      ", name: \"/device:GPU:0\"\n",
      "device_type: \"GPU\"\n",
      "memory_limit: 3654287360\n",
      "locality {\n",
      "  bus_id: 1\n",
      "  links {\n",
      "  }\n",
      "}\n",
      "incarnation: 1494954527766094146\n",
      "physical_device_desc: \"device: 0, name: NVIDIA GeForce RTX 3060 Laptop GPU, pci bus id: 0000:01:00.0, compute capability: 8.6\"\n",
      "]\n"
     ]
    }
   ],
   "source": [
    "from tensorflow.python.client import device_lib\n",
    "print(device_lib.list_local_devices())"
   ]
  },
  {
   "cell_type": "code",
   "execution_count": 70,
   "id": "e05f6314",
   "metadata": {},
   "outputs": [],
   "source": [
    "batch_size = 100\n",
    "seq_len = 150\n",
    "\n",
    "d_k = 256\n",
    "d_v = 256\n",
    "n_heads = 12\n",
    "ff_dim = 256"
   ]
  },
  {
   "cell_type": "code",
   "execution_count": 71,
   "id": "067a8203",
   "metadata": {},
   "outputs": [],
   "source": [
    "folder = os.listdir('2-year sample')\n",
    "os.listdir('2-year sample/' + folder[0])\n",
    "df = pd.read_csv('2-year sample/' +  folder[0] + '/' + 'table_aapl.csv')\n",
    "df = df.iloc[:,:7]\n",
    "df.columns = ['Date','Time','Open','High','Low','Close','Volume']\n",
    "for i in folder[1:]:\n",
    "    try:\n",
    "        df1 = pd.read_csv('2-year sample/' +  i + '/' + 'table_aapl.csv')\n",
    "        df1 = df1.iloc[:,:7]\n",
    "        df1.columns = ['Date','Time','Open','High','Low','Close','Volume']\n",
    "        df = pd.concat([df,df1],axis = 0,ignore_index = True)\n",
    "    except:\n",
    "        continue"
   ]
  },
  {
   "cell_type": "code",
   "execution_count": 72,
   "id": "8ad5c9fb",
   "metadata": {},
   "outputs": [],
   "source": [
    "folder = os.listdir('aapl')\n",
    "df = pd.read_csv('aapl/' +  folder[0])\n",
    "df = df.iloc[:,:7]\n",
    "df.columns = ['Date','Time','Open','High','Low','Close','Volume']\n",
    "for i in folder[1:]:\n",
    "    try:\n",
    "        df1 = pd.read_csv('aapl/' +  i )\n",
    "        df1 = df1.iloc[:,:7]\n",
    "        df1.columns = ['Date','Time','Open','High','Low','Close','Volume']\n",
    "        df = pd.concat([df,df1],axis = 0,ignore_index = True)\n",
    "    except:\n",
    "        continue"
   ]
  },
  {
   "cell_type": "code",
   "execution_count": 73,
   "id": "0a1c26e9",
   "metadata": {},
   "outputs": [],
   "source": [
    "#a = pd.to_datetime(df['Date','Time'],format = \"%Y%m%d%H%M\" )\n",
    "a = df[\"Date\"].astype(str) + df[\"Time\"].astype(str) \n",
    "df = df.drop('Time',axis = 1)\n",
    "df[\"Date\"] = a\n",
    "df[\"Date\"] = pd.to_datetime(df['Date'],format = \"%Y%m%d%H%M\" )"
   ]
  },
  {
   "cell_type": "code",
   "execution_count": 74,
   "id": "ca0b5541",
   "metadata": {},
   "outputs": [],
   "source": [
    "df.rename(columns = {'Date':'DateTime'},inplace = True)\n",
    "df.set_index(df['DateTime'],inplace = True)\n",
    "df = df.drop('DateTime',axis = 1)"
   ]
  },
  {
   "cell_type": "code",
   "execution_count": 75,
   "id": "77130b5e",
   "metadata": {},
   "outputs": [],
   "source": [
    "df = df.resample('15min').mean()"
   ]
  },
  {
   "cell_type": "code",
   "execution_count": 76,
   "id": "8a2ca3b3",
   "metadata": {},
   "outputs": [
    {
     "data": {
      "text/html": [
       "<div>\n",
       "<style scoped>\n",
       "    .dataframe tbody tr th:only-of-type {\n",
       "        vertical-align: middle;\n",
       "    }\n",
       "\n",
       "    .dataframe tbody tr th {\n",
       "        vertical-align: top;\n",
       "    }\n",
       "\n",
       "    .dataframe thead th {\n",
       "        text-align: right;\n",
       "    }\n",
       "</style>\n",
       "<table border=\"1\" class=\"dataframe\">\n",
       "  <thead>\n",
       "    <tr style=\"text-align: right;\">\n",
       "      <th></th>\n",
       "      <th>Open</th>\n",
       "      <th>High</th>\n",
       "      <th>Low</th>\n",
       "      <th>Close</th>\n",
       "      <th>Volume</th>\n",
       "    </tr>\n",
       "  </thead>\n",
       "  <tbody>\n",
       "    <tr>\n",
       "      <th>count</th>\n",
       "      <td>207970.000000</td>\n",
       "      <td>207970.000000</td>\n",
       "      <td>207970.000000</td>\n",
       "      <td>207970.000000</td>\n",
       "      <td>2.079700e+05</td>\n",
       "    </tr>\n",
       "    <tr>\n",
       "      <th>mean</th>\n",
       "      <td>20.481950</td>\n",
       "      <td>20.490792</td>\n",
       "      <td>20.472336</td>\n",
       "      <td>20.481919</td>\n",
       "      <td>8.902688e+05</td>\n",
       "    </tr>\n",
       "    <tr>\n",
       "      <th>std</th>\n",
       "      <td>26.650336</td>\n",
       "      <td>26.664841</td>\n",
       "      <td>26.633433</td>\n",
       "      <td>26.650249</td>\n",
       "      <td>9.942535e+05</td>\n",
       "    </tr>\n",
       "    <tr>\n",
       "      <th>min</th>\n",
       "      <td>0.108014</td>\n",
       "      <td>0.108272</td>\n",
       "      <td>0.107794</td>\n",
       "      <td>0.108074</td>\n",
       "      <td>4.648123e+02</td>\n",
       "    </tr>\n",
       "    <tr>\n",
       "      <th>25%</th>\n",
       "      <td>2.078571</td>\n",
       "      <td>2.079977</td>\n",
       "      <td>2.077116</td>\n",
       "      <td>2.078495</td>\n",
       "      <td>2.415852e+05</td>\n",
       "    </tr>\n",
       "    <tr>\n",
       "      <th>50%</th>\n",
       "      <td>10.921016</td>\n",
       "      <td>10.924210</td>\n",
       "      <td>10.918670</td>\n",
       "      <td>10.921542</td>\n",
       "      <td>5.917001e+05</td>\n",
       "    </tr>\n",
       "    <tr>\n",
       "      <th>75%</th>\n",
       "      <td>27.452576</td>\n",
       "      <td>27.459765</td>\n",
       "      <td>27.446851</td>\n",
       "      <td>27.452799</td>\n",
       "      <td>1.201447e+06</td>\n",
       "    </tr>\n",
       "    <tr>\n",
       "      <th>max</th>\n",
       "      <td>144.869807</td>\n",
       "      <td>144.896800</td>\n",
       "      <td>144.827933</td>\n",
       "      <td>144.872467</td>\n",
       "      <td>2.813693e+07</td>\n",
       "    </tr>\n",
       "  </tbody>\n",
       "</table>\n",
       "</div>"
      ],
      "text/plain": [
       "                Open           High            Low          Close  \\\n",
       "count  207970.000000  207970.000000  207970.000000  207970.000000   \n",
       "mean       20.481950      20.490792      20.472336      20.481919   \n",
       "std        26.650336      26.664841      26.633433      26.650249   \n",
       "min         0.108014       0.108272       0.107794       0.108074   \n",
       "25%         2.078571       2.079977       2.077116       2.078495   \n",
       "50%        10.921016      10.924210      10.918670      10.921542   \n",
       "75%        27.452576      27.459765      27.446851      27.452799   \n",
       "max       144.869807     144.896800     144.827933     144.872467   \n",
       "\n",
       "             Volume  \n",
       "count  2.079700e+05  \n",
       "mean   8.902688e+05  \n",
       "std    9.942535e+05  \n",
       "min    4.648123e+02  \n",
       "25%    2.415852e+05  \n",
       "50%    5.917001e+05  \n",
       "75%    1.201447e+06  \n",
       "max    2.813693e+07  "
      ]
     },
     "execution_count": 76,
     "metadata": {},
     "output_type": "execute_result"
    }
   ],
   "source": [
    "df['Volume'].replace(to_replace=0, method='ffill', inplace=True) \n",
    "df.sort_values('DateTime', inplace=True)\n",
    "\n",
    "# Apply moving average with a window of 10 days to all columns\n",
    "df[['Open', 'High', 'Low', 'Close', 'Volume']] = df[['Open', 'High', 'Low', 'Close', 'Volume']].rolling(10).mean() \n",
    "df.describe()\n",
    "# Drop all rows with NaN values"
   ]
  },
  {
   "cell_type": "code",
   "execution_count": 77,
   "id": "8f105953",
   "metadata": {},
   "outputs": [
    {
     "data": {
      "text/html": [
       "<div>\n",
       "<style scoped>\n",
       "    .dataframe tbody tr th:only-of-type {\n",
       "        vertical-align: middle;\n",
       "    }\n",
       "\n",
       "    .dataframe tbody tr th {\n",
       "        vertical-align: top;\n",
       "    }\n",
       "\n",
       "    .dataframe thead th {\n",
       "        text-align: right;\n",
       "    }\n",
       "</style>\n",
       "<table border=\"1\" class=\"dataframe\">\n",
       "  <thead>\n",
       "    <tr style=\"text-align: right;\">\n",
       "      <th></th>\n",
       "      <th>Open</th>\n",
       "      <th>High</th>\n",
       "      <th>Low</th>\n",
       "      <th>Close</th>\n",
       "      <th>Volume</th>\n",
       "    </tr>\n",
       "  </thead>\n",
       "  <tbody>\n",
       "    <tr>\n",
       "      <th>count</th>\n",
       "      <td>207970.000000</td>\n",
       "      <td>207970.000000</td>\n",
       "      <td>207970.000000</td>\n",
       "      <td>207970.000000</td>\n",
       "      <td>2.079700e+05</td>\n",
       "    </tr>\n",
       "    <tr>\n",
       "      <th>mean</th>\n",
       "      <td>20.481950</td>\n",
       "      <td>20.490792</td>\n",
       "      <td>20.472336</td>\n",
       "      <td>20.481919</td>\n",
       "      <td>8.902688e+05</td>\n",
       "    </tr>\n",
       "    <tr>\n",
       "      <th>std</th>\n",
       "      <td>26.650336</td>\n",
       "      <td>26.664841</td>\n",
       "      <td>26.633433</td>\n",
       "      <td>26.650249</td>\n",
       "      <td>9.942535e+05</td>\n",
       "    </tr>\n",
       "    <tr>\n",
       "      <th>min</th>\n",
       "      <td>0.108014</td>\n",
       "      <td>0.108272</td>\n",
       "      <td>0.107794</td>\n",
       "      <td>0.108074</td>\n",
       "      <td>4.648123e+02</td>\n",
       "    </tr>\n",
       "    <tr>\n",
       "      <th>25%</th>\n",
       "      <td>2.078571</td>\n",
       "      <td>2.079977</td>\n",
       "      <td>2.077116</td>\n",
       "      <td>2.078495</td>\n",
       "      <td>2.415852e+05</td>\n",
       "    </tr>\n",
       "    <tr>\n",
       "      <th>50%</th>\n",
       "      <td>10.921016</td>\n",
       "      <td>10.924210</td>\n",
       "      <td>10.918670</td>\n",
       "      <td>10.921542</td>\n",
       "      <td>5.917001e+05</td>\n",
       "    </tr>\n",
       "    <tr>\n",
       "      <th>75%</th>\n",
       "      <td>27.452576</td>\n",
       "      <td>27.459765</td>\n",
       "      <td>27.446851</td>\n",
       "      <td>27.452799</td>\n",
       "      <td>1.201447e+06</td>\n",
       "    </tr>\n",
       "    <tr>\n",
       "      <th>max</th>\n",
       "      <td>144.869807</td>\n",
       "      <td>144.896800</td>\n",
       "      <td>144.827933</td>\n",
       "      <td>144.872467</td>\n",
       "      <td>2.813693e+07</td>\n",
       "    </tr>\n",
       "  </tbody>\n",
       "</table>\n",
       "</div>"
      ],
      "text/plain": [
       "                Open           High            Low          Close  \\\n",
       "count  207970.000000  207970.000000  207970.000000  207970.000000   \n",
       "mean       20.481950      20.490792      20.472336      20.481919   \n",
       "std        26.650336      26.664841      26.633433      26.650249   \n",
       "min         0.108014       0.108272       0.107794       0.108074   \n",
       "25%         2.078571       2.079977       2.077116       2.078495   \n",
       "50%        10.921016      10.924210      10.918670      10.921542   \n",
       "75%        27.452576      27.459765      27.446851      27.452799   \n",
       "max       144.869807     144.896800     144.827933     144.872467   \n",
       "\n",
       "             Volume  \n",
       "count  2.079700e+05  \n",
       "mean   8.902688e+05  \n",
       "std    9.942535e+05  \n",
       "min    4.648123e+02  \n",
       "25%    2.415852e+05  \n",
       "50%    5.917001e+05  \n",
       "75%    1.201447e+06  \n",
       "max    2.813693e+07  "
      ]
     },
     "execution_count": 77,
     "metadata": {},
     "output_type": "execute_result"
    },
    {
     "data": {
      "image/png": "[encoded data removed]",
      "text/plain": [
       "<Figure size 576x396 with 1 Axes>"
      ]
     },
     "metadata": {},
     "output_type": "display_data"
    }
   ],
   "source": [
    "df.dropna(how='any', axis=0, inplace=True) \n",
    "df.Volume.plot()\n",
    "df.describe()"
   ]
  },
  {
   "cell_type": "code",
   "execution_count": 78,
   "id": "9ad61d41",
   "metadata": {},
   "outputs": [
    {
     "name": "stdout",
     "output_type": "stream",
     "text": [
      "Training data shape: (166376, 2)\n",
      "Validation data shape: (20797, 2)\n",
      "Test data shape: (20797, 2)\n"
     ]
    },
    {
     "data": {
      "text/html": [
       "<div>\n",
       "<style scoped>\n",
       "    .dataframe tbody tr th:only-of-type {\n",
       "        vertical-align: middle;\n",
       "    }\n",
       "\n",
       "    .dataframe tbody tr th {\n",
       "        vertical-align: top;\n",
       "    }\n",
       "\n",
       "    .dataframe thead th {\n",
       "        text-align: right;\n",
       "    }\n",
       "</style>\n",
       "<table border=\"1\" class=\"dataframe\">\n",
       "  <thead>\n",
       "    <tr style=\"text-align: right;\">\n",
       "      <th></th>\n",
       "      <th>Open</th>\n",
       "      <th>High</th>\n",
       "      <th>Low</th>\n",
       "      <th>Close</th>\n",
       "      <th>Volume</th>\n",
       "    </tr>\n",
       "    <tr>\n",
       "      <th>DateTime</th>\n",
       "      <th></th>\n",
       "      <th></th>\n",
       "      <th></th>\n",
       "      <th></th>\n",
       "      <th></th>\n",
       "    </tr>\n",
       "  </thead>\n",
       "  <tbody>\n",
       "    <tr>\n",
       "      <th>1998-01-02 11:15:00</th>\n",
       "      <td>0.108014</td>\n",
       "      <td>0.000005</td>\n",
       "      <td>0.107794</td>\n",
       "      <td>0.000000</td>\n",
       "      <td>2.362410e+06</td>\n",
       "    </tr>\n",
       "    <tr>\n",
       "      <th>1998-01-02 11:30:00</th>\n",
       "      <td>0.108874</td>\n",
       "      <td>0.000029</td>\n",
       "      <td>0.108632</td>\n",
       "      <td>0.000023</td>\n",
       "      <td>2.466520e+06</td>\n",
       "    </tr>\n",
       "    <tr>\n",
       "      <th>1998-01-02 11:45:00</th>\n",
       "      <td>0.109636</td>\n",
       "      <td>0.000050</td>\n",
       "      <td>0.109394</td>\n",
       "      <td>0.000044</td>\n",
       "      <td>2.513694e+06</td>\n",
       "    </tr>\n",
       "    <tr>\n",
       "      <th>1998-01-02 12:00:00</th>\n",
       "      <td>0.110496</td>\n",
       "      <td>0.000073</td>\n",
       "      <td>0.110247</td>\n",
       "      <td>0.000068</td>\n",
       "      <td>2.462546e+06</td>\n",
       "    </tr>\n",
       "    <tr>\n",
       "      <th>1998-01-02 12:15:00</th>\n",
       "      <td>0.111529</td>\n",
       "      <td>0.000102</td>\n",
       "      <td>0.111274</td>\n",
       "      <td>0.000096</td>\n",
       "      <td>2.407881e+06</td>\n",
       "    </tr>\n",
       "  </tbody>\n",
       "</table>\n",
       "</div>"
      ],
      "text/plain": [
       "                         Open      High       Low     Close        Volume\n",
       "DateTime                                                                 \n",
       "1998-01-02 11:15:00  0.108014  0.000005  0.107794  0.000000  2.362410e+06\n",
       "1998-01-02 11:30:00  0.108874  0.000029  0.108632  0.000023  2.466520e+06\n",
       "1998-01-02 11:45:00  0.109636  0.000050  0.109394  0.000044  2.513694e+06\n",
       "1998-01-02 12:00:00  0.110496  0.000073  0.110247  0.000068  2.462546e+06\n",
       "1998-01-02 12:15:00  0.111529  0.000102  0.111274  0.000096  2.407881e+06"
      ]
     },
     "execution_count": 78,
     "metadata": {},
     "output_type": "execute_result"
    }
   ],
   "source": [
    "'''Calculate percentage change'''\n",
    "\n",
    "\n",
    "df.dropna(how='any', axis=0, inplace=True) # Drop all rows with NaN values\n",
    "\n",
    "###############################################################################\n",
    "'''Create indexes to split dataset'''\n",
    "\n",
    "times = sorted(df.index.values)\n",
    "last_10pct = sorted(df.index.values)[-int(0.1*len(times))] # Last 10% of series\n",
    "last_20pct = sorted(df.index.values)[-int(0.2*len(times))] # Last 20% of series\n",
    "\n",
    "###############################################################################\n",
    "'''Normalize price columns'''\n",
    "#\n",
    "min_return = min(df[(df.index < last_20pct)][['Close','High']].min(axis=0))\n",
    "max_return = max(df[(df.index < last_20pct)][['Close','High']].max(axis=0))\n",
    "\n",
    "# Min-max normalize price columns (0-1 range)\n",
    "\n",
    "df['Close'] = (df['Close'] - min_return) / (max_return - min_return)\n",
    "df['High'] = (df['High'] - min_return) / (max_return - min_return)\n",
    "\n",
    "###############################################################################\n",
    "'''Normalize volume column'''\n",
    "\n",
    "\n",
    "\n",
    "###############################################################################\n",
    "'''Create training, validation and test split'''\n",
    "\n",
    "df_train = df[(df.index < last_20pct)]  # Training data are 80% of total data\n",
    "df_val = df[(df.index >= last_20pct) & (df.index < last_10pct)]\n",
    "df_test = df[(df.index >= last_10pct)]\n",
    "'''\n",
    "# Remove date column\n",
    "df_train.drop(columns=['Date'], inplace=True)\n",
    "df_val.drop(columns=['Date'], inplace=True)\n",
    "df_test.drop(columns=['Date'], inplace=True)\n",
    "'''\n",
    "# Convert pandas columns into arrays\n",
    "train_data = df_train[['Close','High']].values\n",
    "val_data = df_val[['Close','High']].values\n",
    "test_data = df_test[['Close','High']].values\n",
    "print('Training data shape: {}'.format(train_data.shape))\n",
    "print('Validation data shape: {}'.format(val_data.shape))\n",
    "print('Test data shape: {}'.format(test_data.shape))\n",
    "\n",
    "del(df)\n",
    "df_train.head()"
   ]
  },
  {
   "cell_type": "code",
   "execution_count": 79,
   "id": "a55cb9f6",
   "metadata": {},
   "outputs": [
    {
     "data": {
      "text/plain": [
       "<matplotlib.legend.Legend at 0x1d585924f98>"
      ]
     },
     "execution_count": 79,
     "metadata": {},
     "output_type": "execute_result"
    },
    {
     "data": {
      "image/png": "[encoded data removed]",
      "text/plain": [
       "<Figure size 1080x864 with 1 Axes>"
      ]
     },
     "metadata": {},
     "output_type": "display_data"
    }
   ],
   "source": [
    "fig = plt.figure(figsize=(15,12))\n",
    "st = fig.suptitle(\"Data Separation\", fontsize=20)\n",
    "st.set_y(0.95)\n",
    "\n",
    "###############################################################################\n",
    "\n",
    "ax1 = fig.add_subplot(211)\n",
    "ax1.plot(np.arange(train_data.shape[0]), df_train['Close'], label='Training data')\n",
    "\n",
    "ax1.plot(np.arange(train_data.shape[0], \n",
    "                   train_data.shape[0]+val_data.shape[0]), df_val['Close'], label='Validation data')\n",
    "\n",
    "ax1.plot(np.arange(train_data.shape[0]+val_data.shape[0], \n",
    "                   train_data.shape[0]+val_data.shape[0]+test_data.shape[0]), df_test['Close'], label='Test data')\n",
    "ax1.set_xlabel('Date')\n",
    "ax1.set_ylabel('Normalized Closing Returns')\n",
    "ax1.set_title(\"Close Price\", fontsize=18)\n",
    "ax1.legend(loc=\"best\", fontsize=12)\n",
    "\n",
    "###############################################################################\n"
   ]
  },
  {
   "cell_type": "code",
   "execution_count": 82,
   "id": "754db362",
   "metadata": {},
   "outputs": [
    {
     "name": "stdout",
     "output_type": "stream",
     "text": [
      "Training set shape (166226, 150, 2) (166226,)\n",
      "Validation set shape (20647, 150, 2) (20647,)\n",
      "Testing set shape (20647, 150, 2) (20647,)\n"
     ]
    }
   ],
   "source": [
    "\n",
    "# Training data\n",
    "X_train, y_train = [], []\n",
    "for i in range(seq_len, len(train_data)):\n",
    "  X_train.append(train_data[i-seq_len:i]) # Chunks of training data with a length of 128 df-rows\n",
    "  y_train.append(train_data[:,1][i]) #Value of 4th column (Close Price) of df-row 128+1\n",
    "X_train, y_train = np.array(X_train), np.array(y_train)\n",
    "\n",
    "###############################################################################\n",
    "\n",
    "# Validation data\n",
    "X_val, y_val = [], []\n",
    "for i in range(seq_len, len(val_data)):\n",
    "    X_val.append(val_data[i-seq_len:i])\n",
    "    y_val.append(val_data[:,1][i])\n",
    "X_val, y_val = np.array(X_val), np.array(y_val)\n",
    "\n",
    "###############################################################################\n",
    "\n",
    "# Test data\n",
    "X_test, y_test = [], []\n",
    "for i in range(seq_len, len(test_data)):\n",
    "    X_test.append(test_data[i-seq_len:i])\n",
    "    y_test.append(test_data[:,1][i])    \n",
    "X_test, y_test = np.array(X_test), np.array(y_test)\n",
    "\n",
    "print('Training set shape', X_train.shape, y_train.shape)\n",
    "print('Validation set shape', X_val.shape, y_val.shape)\n",
    "print('Testing set shape' ,X_test.shape, y_test.shape)"
   ]
  },
  {
   "cell_type": "code",
   "execution_count": 83,
   "id": "ad8ebf53",
   "metadata": {},
   "outputs": [],
   "source": [
    "from tensorflow import keras\n",
    "from tensorflow.keras import layers\n",
    "\n",
    "def transformer_encoder(inputs, head_size, num_heads, ff_dim, dropout=0):\n",
    "    # Normalization and Attention\n",
    "    x = layers.LayerNormalization(epsilon=1e-6)(inputs)\n",
    "    x = layers.MultiHeadAttention(\n",
    "        key_dim=head_size, num_heads=num_heads, dropout=dropout\n",
    "    )(x,x)\n",
    "    x = layers.Dropout(dropout)(x)\n",
    "    res = x + inputs\n",
    "\n",
    "    # Feed Forward Part\n",
    "    x = layers.LayerNormalization(epsilon=1e-6)(res)\n",
    "    x = layers.Conv1D(filters=ff_dim, kernel_size=1, activation=\"relu\")(x)\n",
    "    x = layers.Dropout(dropout)(x)\n",
    "    x = layers.Conv1D(filters=inputs.shape[-1], kernel_size=1)(x)\n",
    "    return x + res"
   ]
  },
  {
   "cell_type": "code",
   "execution_count": 84,
   "id": "5371759d",
   "metadata": {},
   "outputs": [],
   "source": [
    "def build_model(\n",
    "    input_shape,\n",
    "    head_size,\n",
    "    num_heads,\n",
    "    ff_dim,\n",
    "    num_transformer_blocks,\n",
    "    mlp_units,\n",
    "    dropout=0,\n",
    "    mlp_dropout=0,\n",
    "):\n",
    "    inputs = keras.Input(shape=input_shape)\n",
    "    x = inputs\n",
    "    for _ in range(num_transformer_blocks):\n",
    "        x = transformer_encoder(x, head_size, num_heads, ff_dim, dropout)\n",
    "\n",
    "    x = layers.GlobalAveragePooling1D(data_format=\"channels_first\")(x)\n",
    "    for dim in mlp_units:\n",
    "        x = layers.Dense(dim, activation=\"relu\")(x)\n",
    "        x = layers.Dropout(mlp_dropout)(x)\n",
    "    outputs = layers.Dense(1)(x)\n",
    "    return keras.Model(inputs, outputs)"
   ]
  },
  {
   "cell_type": "code",
   "execution_count": 85,
   "id": "924e98e2",
   "metadata": {},
   "outputs": [
    {
     "name": "stdout",
     "output_type": "stream",
     "text": [
      "Epoch 1/200\n",
      "2078/2078 [==============================] - 181s 86ms/step - loss: 0.0479 - val_loss: 0.1332\n",
      "\n",
      "Epoch 00001: val_loss improved from inf to 0.13321, saving model to Transformers\n"
     ]
    },
    {
     "name": "stderr",
     "output_type": "stream",
     "text": [
      "WARNING:absl:Found untraced functions such as query_layer_call_fn, query_layer_call_and_return_conditional_losses, key_layer_call_fn, key_layer_call_and_return_conditional_losses, value_layer_call_fn while saving (showing 5 of 120). These functions will not be directly callable after loading.\n"
     ]
    },
    {
     "name": "stdout",
     "output_type": "stream",
     "text": [
      "INFO:tensorflow:Assets written to: Transformers\\assets\n"
     ]
    },
    {
     "name": "stderr",
     "output_type": "stream",
     "text": [
      "INFO:tensorflow:Assets written to: Transformers\\assets\n"
     ]
    },
    {
     "name": "stdout",
     "output_type": "stream",
     "text": [
      "Epoch 2/200\n",
      "2078/2078 [==============================] - 181s 87ms/step - loss: 0.0080 - val_loss: 0.0111\n",
      "\n",
      "Epoch 00002: val_loss improved from 0.13321 to 0.01107, saving model to Transformers\n"
     ]
    },
    {
     "name": "stderr",
     "output_type": "stream",
     "text": [
      "WARNING:absl:Found untraced functions such as query_layer_call_fn, query_layer_call_and_return_conditional_losses, key_layer_call_fn, key_layer_call_and_return_conditional_losses, value_layer_call_fn while saving (showing 5 of 120). These functions will not be directly callable after loading.\n"
     ]
    },
    {
     "name": "stdout",
     "output_type": "stream",
     "text": [
      "INFO:tensorflow:Assets written to: Transformers\\assets\n"
     ]
    },
    {
     "name": "stderr",
     "output_type": "stream",
     "text": [
      "INFO:tensorflow:Assets written to: Transformers\\assets\n"
     ]
    },
    {
     "name": "stdout",
     "output_type": "stream",
     "text": [
      "Epoch 3/200\n",
      "2078/2078 [==============================] - 180s 86ms/step - loss: 0.0046 - val_loss: 0.0243\n",
      "\n",
      "Epoch 00003: val_loss did not improve from 0.01107\n",
      "Epoch 4/200\n",
      "2078/2078 [==============================] - 180s 87ms/step - loss: 0.0029 - val_loss: 0.0344\n",
      "\n",
      "Epoch 00004: val_loss did not improve from 0.01107\n",
      "Epoch 5/200\n",
      "2078/2078 [==============================] - 180s 87ms/step - loss: 0.0020 - val_loss: 0.0091\n",
      "\n",
      "Epoch 00005: val_loss improved from 0.01107 to 0.00910, saving model to Transformers\n"
     ]
    },
    {
     "name": "stderr",
     "output_type": "stream",
     "text": [
      "WARNING:absl:Found untraced functions such as query_layer_call_fn, query_layer_call_and_return_conditional_losses, key_layer_call_fn, key_layer_call_and_return_conditional_losses, value_layer_call_fn while saving (showing 5 of 120). These functions will not be directly callable after loading.\n"
     ]
    },
    {
     "name": "stdout",
     "output_type": "stream",
     "text": [
      "INFO:tensorflow:Assets written to: Transformers\\assets\n"
     ]
    },
    {
     "name": "stderr",
     "output_type": "stream",
     "text": [
      "INFO:tensorflow:Assets written to: Transformers\\assets\n"
     ]
    },
    {
     "name": "stdout",
     "output_type": "stream",
     "text": [
      "Epoch 6/200\n",
      "2078/2078 [==============================] - 181s 87ms/step - loss: 0.0014 - val_loss: 0.0171\n",
      "\n",
      "Epoch 00006: val_loss did not improve from 0.00910\n",
      "Epoch 7/200\n",
      "2078/2078 [==============================] - 181s 87ms/step - loss: 0.0010 - val_loss: 0.0019\n",
      "\n",
      "Epoch 00007: val_loss improved from 0.00910 to 0.00186, saving model to Transformers\n"
     ]
    },
    {
     "name": "stderr",
     "output_type": "stream",
     "text": [
      "WARNING:absl:Found untraced functions such as query_layer_call_fn, query_layer_call_and_return_conditional_losses, key_layer_call_fn, key_layer_call_and_return_conditional_losses, value_layer_call_fn while saving (showing 5 of 120). These functions will not be directly callable after loading.\n"
     ]
    },
    {
     "name": "stdout",
     "output_type": "stream",
     "text": [
      "INFO:tensorflow:Assets written to: Transformers\\assets\n"
     ]
    },
    {
     "name": "stderr",
     "output_type": "stream",
     "text": [
      "INFO:tensorflow:Assets written to: Transformers\\assets\n"
     ]
    },
    {
     "name": "stdout",
     "output_type": "stream",
     "text": [
      "Epoch 8/200\n",
      "2078/2078 [==============================] - 180s 87ms/step - loss: 9.2675e-04 - val_loss: 0.0021\n",
      "\n",
      "Epoch 00008: val_loss did not improve from 0.00186\n",
      "Epoch 9/200\n",
      "2078/2078 [==============================] - 180s 87ms/step - loss: 8.2726e-04 - val_loss: 9.5640e-04\n",
      "\n",
      "Epoch 00009: val_loss improved from 0.00186 to 0.00096, saving model to Transformers\n"
     ]
    },
    {
     "name": "stderr",
     "output_type": "stream",
     "text": [
      "WARNING:absl:Found untraced functions such as query_layer_call_fn, query_layer_call_and_return_conditional_losses, key_layer_call_fn, key_layer_call_and_return_conditional_losses, value_layer_call_fn while saving (showing 5 of 120). These functions will not be directly callable after loading.\n"
     ]
    },
    {
     "name": "stdout",
     "output_type": "stream",
     "text": [
      "INFO:tensorflow:Assets written to: Transformers\\assets\n"
     ]
    },
    {
     "name": "stderr",
     "output_type": "stream",
     "text": [
      "INFO:tensorflow:Assets written to: Transformers\\assets\n"
     ]
    },
    {
     "name": "stdout",
     "output_type": "stream",
     "text": [
      "Epoch 10/200\n",
      "2078/2078 [==============================] - 181s 87ms/step - loss: 7.6216e-04 - val_loss: 5.4437e-04\n",
      "\n",
      "Epoch 00010: val_loss improved from 0.00096 to 0.00054, saving model to Transformers\n"
     ]
    },
    {
     "name": "stderr",
     "output_type": "stream",
     "text": [
      "WARNING:absl:Found untraced functions such as query_layer_call_fn, query_layer_call_and_return_conditional_losses, key_layer_call_fn, key_layer_call_and_return_conditional_losses, value_layer_call_fn while saving (showing 5 of 120). These functions will not be directly callable after loading.\n"
     ]
    },
    {
     "name": "stdout",
     "output_type": "stream",
     "text": [
      "INFO:tensorflow:Assets written to: Transformers\\assets\n"
     ]
    },
    {
     "name": "stderr",
     "output_type": "stream",
     "text": [
      "INFO:tensorflow:Assets written to: Transformers\\assets\n"
     ]
    },
    {
     "name": "stdout",
     "output_type": "stream",
     "text": [
      "Epoch 11/200\n",
      "2078/2078 [==============================] - 181s 87ms/step - loss: 7.2366e-04 - val_loss: 0.0022\n",
      "\n",
      "Epoch 00011: val_loss did not improve from 0.00054\n",
      "Epoch 12/200\n",
      "2078/2078 [==============================] - 181s 87ms/step - loss: 7.1735e-04 - val_loss: 2.3586e-04\n",
      "\n",
      "Epoch 00012: val_loss improved from 0.00054 to 0.00024, saving model to Transformers\n"
     ]
    },
    {
     "name": "stderr",
     "output_type": "stream",
     "text": [
      "WARNING:absl:Found untraced functions such as query_layer_call_fn, query_layer_call_and_return_conditional_losses, key_layer_call_fn, key_layer_call_and_return_conditional_losses, value_layer_call_fn while saving (showing 5 of 120). These functions will not be directly callable after loading.\n"
     ]
    },
    {
     "name": "stdout",
     "output_type": "stream",
     "text": [
      "INFO:tensorflow:Assets written to: Transformers\\assets\n"
     ]
    },
    {
     "name": "stderr",
     "output_type": "stream",
     "text": [
      "INFO:tensorflow:Assets written to: Transformers\\assets\n"
     ]
    },
    {
     "name": "stdout",
     "output_type": "stream",
     "text": [
      "Epoch 13/200\n",
      "2078/2078 [==============================] - 181s 87ms/step - loss: 6.6547e-04 - val_loss: 9.0980e-05\n",
      "\n",
      "Epoch 00013: val_loss improved from 0.00024 to 0.00009, saving model to Transformers\n"
     ]
    },
    {
     "name": "stderr",
     "output_type": "stream",
     "text": [
      "WARNING:absl:Found untraced functions such as query_layer_call_fn, query_layer_call_and_return_conditional_losses, key_layer_call_fn, key_layer_call_and_return_conditional_losses, value_layer_call_fn while saving (showing 5 of 120). These functions will not be directly callable after loading.\n"
     ]
    },
    {
     "name": "stdout",
     "output_type": "stream",
     "text": [
      "INFO:tensorflow:Assets written to: Transformers\\assets\n"
     ]
    },
    {
     "name": "stderr",
     "output_type": "stream",
     "text": [
      "INFO:tensorflow:Assets written to: Transformers\\assets\n"
     ]
    },
    {
     "name": "stdout",
     "output_type": "stream",
     "text": [
      "Epoch 14/200\n",
      "2078/2078 [==============================] - 181s 87ms/step - loss: 6.5555e-04 - val_loss: 8.0082e-04\n",
      "\n",
      "Epoch 00014: val_loss did not improve from 0.00009\n",
      "Epoch 15/200\n",
      "2078/2078 [==============================] - 181s 87ms/step - loss: 6.4229e-04 - val_loss: 9.1903e-04\n",
      "\n",
      "Epoch 00015: val_loss did not improve from 0.00009\n",
      "Epoch 16/200\n",
      "2078/2078 [==============================] - 181s 87ms/step - loss: 6.1346e-04 - val_loss: 1.9094e-04\n",
      "\n",
      "Epoch 00016: val_loss did not improve from 0.00009\n",
      "Epoch 17/200\n",
      "2078/2078 [==============================] - 181s 87ms/step - loss: 6.1446e-04 - val_loss: 1.8143e-04\n",
      "\n",
      "Epoch 00017: val_loss did not improve from 0.00009\n",
      "Epoch 18/200\n",
      "2078/2078 [==============================] - 181s 87ms/step - loss: 6.1063e-04 - val_loss: 9.8575e-05\n",
      "\n",
      "Epoch 00018: val_loss did not improve from 0.00009\n",
      "Epoch 19/200\n",
      "2078/2078 [==============================] - 181s 87ms/step - loss: 6.2252e-04 - val_loss: 0.0011\n",
      "\n",
      "Epoch 00019: val_loss did not improve from 0.00009\n",
      "Epoch 20/200\n",
      "2078/2078 [==============================] - 181s 87ms/step - loss: 6.1072e-04 - val_loss: 4.1720e-04\n",
      "\n",
      "Epoch 00020: val_loss did not improve from 0.00009\n",
      "Epoch 21/200\n",
      "2078/2078 [==============================] - 181s 87ms/step - loss: 6.0833e-04 - val_loss: 1.6454e-04\n",
      "\n",
      "Epoch 00021: val_loss did not improve from 0.00009\n",
      "Epoch 22/200\n",
      "2078/2078 [==============================] - 181s 87ms/step - loss: 5.9891e-04 - val_loss: 0.0011\n",
      "\n",
      "Epoch 00022: val_loss did not improve from 0.00009\n",
      "Epoch 23/200\n",
      "2078/2078 [==============================] - 181s 87ms/step - loss: 6.0036e-04 - val_loss: 0.0011\n",
      "\n",
      "Epoch 00023: val_loss did not improve from 0.00009\n",
      "Epoch 24/200\n",
      "2078/2078 [==============================] - 181s 87ms/step - loss: 6.0261e-04 - val_loss: 1.7466e-04\n",
      "\n",
      "Epoch 00024: val_loss did not improve from 0.00009\n",
      "Epoch 25/200\n",
      "2078/2078 [==============================] - 181s 87ms/step - loss: 5.9233e-04 - val_loss: 7.9025e-05\n",
      "\n",
      "Epoch 00025: val_loss improved from 0.00009 to 0.00008, saving model to Transformers\n"
     ]
    },
    {
     "name": "stderr",
     "output_type": "stream",
     "text": [
      "WARNING:absl:Found untraced functions such as query_layer_call_fn, query_layer_call_and_return_conditional_losses, key_layer_call_fn, key_layer_call_and_return_conditional_losses, value_layer_call_fn while saving (showing 5 of 120). These functions will not be directly callable after loading.\n"
     ]
    },
    {
     "name": "stdout",
     "output_type": "stream",
     "text": [
      "INFO:tensorflow:Assets written to: Transformers\\assets\n"
     ]
    },
    {
     "name": "stderr",
     "output_type": "stream",
     "text": [
      "INFO:tensorflow:Assets written to: Transformers\\assets\n"
     ]
    },
    {
     "name": "stdout",
     "output_type": "stream",
     "text": [
      "Epoch 26/200\n",
      "2078/2078 [==============================] - 181s 87ms/step - loss: 5.8296e-04 - val_loss: 6.0137e-04\n",
      "\n",
      "Epoch 00026: val_loss did not improve from 0.00008\n",
      "Epoch 27/200\n",
      "2078/2078 [==============================] - 181s 87ms/step - loss: 5.9694e-04 - val_loss: 4.7657e-04\n",
      "\n",
      "Epoch 00027: val_loss did not improve from 0.00008\n",
      "Epoch 28/200\n",
      "2078/2078 [==============================] - 181s 87ms/step - loss: 5.9631e-04 - val_loss: 4.0733e-04\n",
      "\n",
      "Epoch 00028: val_loss did not improve from 0.00008\n",
      "Epoch 29/200\n",
      "2078/2078 [==============================] - 181s 87ms/step - loss: 5.9583e-04 - val_loss: 9.8758e-04\n",
      "\n",
      "Epoch 00029: val_loss did not improve from 0.00008\n",
      "Epoch 30/200\n",
      "2078/2078 [==============================] - 181s 87ms/step - loss: 5.8798e-04 - val_loss: 4.7472e-04\n",
      "\n",
      "Epoch 00030: val_loss did not improve from 0.00008\n",
      "Epoch 31/200\n",
      "2078/2078 [==============================] - 182s 87ms/step - loss: 5.8032e-04 - val_loss: 3.3025e-04\n",
      "\n",
      "Epoch 00031: val_loss did not improve from 0.00008\n",
      "Epoch 32/200\n",
      "2078/2078 [==============================] - 181s 87ms/step - loss: 5.8427e-04 - val_loss: 0.0014\n",
      "\n",
      "Epoch 00032: val_loss did not improve from 0.00008\n",
      "Epoch 33/200\n",
      "2078/2078 [==============================] - 181s 87ms/step - loss: 5.8370e-04 - val_loss: 0.0010\n",
      "\n",
      "Epoch 00033: val_loss did not improve from 0.00008\n",
      "Epoch 34/200\n",
      "2078/2078 [==============================] - 181s 87ms/step - loss: 5.8501e-04 - val_loss: 1.4069e-04\n",
      "\n",
      "Epoch 00034: val_loss did not improve from 0.00008\n",
      "Epoch 35/200\n",
      "2078/2078 [==============================] - 181s 87ms/step - loss: 5.7980e-04 - val_loss: 8.7240e-04\n",
      "\n",
      "Epoch 00035: val_loss did not improve from 0.00008\n",
      "Epoch 36/200\n",
      "2078/2078 [==============================] - 181s 87ms/step - loss: 5.9042e-04 - val_loss: 2.7556e-04\n",
      "\n",
      "Epoch 00036: val_loss did not improve from 0.00008\n",
      "Epoch 37/200\n",
      "2078/2078 [==============================] - 181s 87ms/step - loss: 5.7834e-04 - val_loss: 6.5172e-04\n",
      "\n",
      "Epoch 00037: val_loss did not improve from 0.00008\n",
      "Epoch 38/200\n",
      "2078/2078 [==============================] - 181s 87ms/step - loss: 5.8264e-04 - val_loss: 8.4793e-04\n",
      "\n",
      "Epoch 00038: val_loss did not improve from 0.00008\n",
      "Epoch 39/200\n",
      "2078/2078 [==============================] - 181s 87ms/step - loss: 5.7446e-04 - val_loss: 2.2514e-04\n",
      "\n",
      "Epoch 00039: val_loss did not improve from 0.00008\n",
      "Epoch 40/200\n",
      "2078/2078 [==============================] - 181s 87ms/step - loss: 5.8124e-04 - val_loss: 1.8838e-04\n",
      "\n",
      "Epoch 00040: val_loss did not improve from 0.00008\n",
      "Epoch 41/200\n",
      "2078/2078 [==============================] - 181s 87ms/step - loss: 5.8159e-04 - val_loss: 0.0018\n",
      "\n",
      "Epoch 00041: val_loss did not improve from 0.00008\n",
      "Epoch 42/200\n",
      "2078/2078 [==============================] - 181s 87ms/step - loss: 5.7532e-04 - val_loss: 5.3639e-05\n",
      "\n",
      "Epoch 00042: val_loss improved from 0.00008 to 0.00005, saving model to Transformers\n"
     ]
    },
    {
     "name": "stderr",
     "output_type": "stream",
     "text": [
      "WARNING:absl:Found untraced functions such as query_layer_call_fn, query_layer_call_and_return_conditional_losses, key_layer_call_fn, key_layer_call_and_return_conditional_losses, value_layer_call_fn while saving (showing 5 of 120). These functions will not be directly callable after loading.\n"
     ]
    },
    {
     "name": "stdout",
     "output_type": "stream",
     "text": [
      "INFO:tensorflow:Assets written to: Transformers\\assets\n"
     ]
    },
    {
     "name": "stderr",
     "output_type": "stream",
     "text": [
      "INFO:tensorflow:Assets written to: Transformers\\assets\n"
     ]
    },
    {
     "name": "stdout",
     "output_type": "stream",
     "text": [
      "Epoch 43/200\n",
      "2078/2078 [==============================] - 181s 87ms/step - loss: 5.7380e-04 - val_loss: 7.5822e-04\n",
      "\n",
      "Epoch 00043: val_loss did not improve from 0.00005\n",
      "Epoch 44/200\n",
      "2078/2078 [==============================] - 181s 87ms/step - loss: 5.7824e-04 - val_loss: 4.1225e-04\n",
      "\n",
      "Epoch 00044: val_loss did not improve from 0.00005\n",
      "Epoch 45/200\n",
      "2078/2078 [==============================] - 181s 87ms/step - loss: 5.7204e-04 - val_loss: 5.6590e-04\n",
      "\n",
      "Epoch 00045: val_loss did not improve from 0.00005\n",
      "Epoch 46/200\n",
      "2078/2078 [==============================] - 181s 87ms/step - loss: 5.7262e-04 - val_loss: 4.4432e-04\n",
      "\n",
      "Epoch 00046: val_loss did not improve from 0.00005\n",
      "Epoch 47/200\n",
      "2078/2078 [==============================] - 181s 87ms/step - loss: 5.7278e-04 - val_loss: 5.6616e-04\n",
      "\n",
      "Epoch 00047: val_loss did not improve from 0.00005\n",
      "Epoch 48/200\n",
      "2078/2078 [==============================] - 181s 87ms/step - loss: 5.7631e-04 - val_loss: 3.7036e-04\n",
      "\n",
      "Epoch 00048: val_loss did not improve from 0.00005\n",
      "Epoch 49/200\n",
      "2078/2078 [==============================] - 181s 87ms/step - loss: 5.7174e-04 - val_loss: 9.3858e-05\n",
      "\n",
      "Epoch 00049: val_loss did not improve from 0.00005\n",
      "Epoch 50/200\n",
      "2078/2078 [==============================] - 181s 87ms/step - loss: 5.7471e-04 - val_loss: 9.4163e-04\n",
      "\n",
      "Epoch 00050: val_loss did not improve from 0.00005\n",
      "Epoch 51/200\n",
      "2078/2078 [==============================] - 181s 87ms/step - loss: 5.7229e-04 - val_loss: 1.9924e-04\n",
      "\n",
      "Epoch 00051: val_loss did not improve from 0.00005\n",
      "Epoch 52/200\n",
      "2078/2078 [==============================] - 181s 87ms/step - loss: 5.7250e-04 - val_loss: 3.1746e-04\n",
      "\n",
      "Epoch 00052: val_loss did not improve from 0.00005\n",
      "Epoch 53/200\n",
      "2078/2078 [==============================] - 181s 87ms/step - loss: 5.7161e-04 - val_loss: 2.5803e-04\n",
      "\n",
      "Epoch 00053: val_loss did not improve from 0.00005\n",
      "Epoch 54/200\n",
      "2078/2078 [==============================] - 181s 87ms/step - loss: 5.7483e-04 - val_loss: 8.2425e-05\n",
      "\n",
      "Epoch 00054: val_loss did not improve from 0.00005\n",
      "Epoch 55/200\n",
      "2078/2078 [==============================] - 181s 87ms/step - loss: 5.7142e-04 - val_loss: 3.3648e-04\n",
      "\n",
      "Epoch 00055: val_loss did not improve from 0.00005\n",
      "Epoch 56/200\n",
      "2078/2078 [==============================] - 181s 87ms/step - loss: 5.7016e-04 - val_loss: 3.7794e-04\n",
      "\n",
      "Epoch 00056: val_loss did not improve from 0.00005\n",
      "Epoch 57/200\n",
      "2078/2078 [==============================] - 182s 87ms/step - loss: 5.6643e-04 - val_loss: 1.2831e-04\n",
      "\n",
      "Epoch 00057: val_loss did not improve from 0.00005\n",
      "Epoch 58/200\n",
      "2078/2078 [==============================] - 181s 87ms/step - loss: 5.7207e-04 - val_loss: 3.9257e-04\n",
      "\n",
      "Epoch 00058: val_loss did not improve from 0.00005\n",
      "Epoch 59/200\n",
      "2078/2078 [==============================] - 181s 87ms/step - loss: 5.7521e-04 - val_loss: 2.8543e-04\n",
      "\n",
      "Epoch 00059: val_loss did not improve from 0.00005\n",
      "Epoch 60/200\n",
      "2078/2078 [==============================] - 181s 87ms/step - loss: 5.7179e-04 - val_loss: 0.0012\n",
      "\n",
      "Epoch 00060: val_loss did not improve from 0.00005\n",
      "Epoch 61/200\n",
      "2078/2078 [==============================] - 181s 87ms/step - loss: 5.6898e-04 - val_loss: 7.2613e-05\n",
      "\n",
      "Epoch 00061: val_loss did not improve from 0.00005\n",
      "Epoch 62/200\n",
      "2078/2078 [==============================] - 181s 87ms/step - loss: 5.6739e-04 - val_loss: 1.9459e-04\n",
      "\n",
      "Epoch 00062: val_loss did not improve from 0.00005\n",
      "Epoch 63/200\n",
      "2078/2078 [==============================] - 181s 87ms/step - loss: 5.7254e-04 - val_loss: 2.8733e-04\n",
      "\n",
      "Epoch 00063: val_loss did not improve from 0.00005\n",
      "Epoch 64/200\n",
      "2078/2078 [==============================] - 181s 87ms/step - loss: 5.7422e-04 - val_loss: 3.7479e-04\n",
      "\n",
      "Epoch 00064: val_loss did not improve from 0.00005\n",
      "Epoch 65/200\n",
      "2078/2078 [==============================] - 181s 87ms/step - loss: 5.7148e-04 - val_loss: 4.7153e-05\n",
      "\n",
      "Epoch 00065: val_loss improved from 0.00005 to 0.00005, saving model to Transformers\n"
     ]
    },
    {
     "name": "stderr",
     "output_type": "stream",
     "text": [
      "WARNING:absl:Found untraced functions such as query_layer_call_fn, query_layer_call_and_return_conditional_losses, key_layer_call_fn, key_layer_call_and_return_conditional_losses, value_layer_call_fn while saving (showing 5 of 120). These functions will not be directly callable after loading.\n"
     ]
    },
    {
     "name": "stdout",
     "output_type": "stream",
     "text": [
      "INFO:tensorflow:Assets written to: Transformers\\assets\n"
     ]
    },
    {
     "name": "stderr",
     "output_type": "stream",
     "text": [
      "INFO:tensorflow:Assets written to: Transformers\\assets\n"
     ]
    },
    {
     "name": "stdout",
     "output_type": "stream",
     "text": [
      "Epoch 66/200\n",
      "2078/2078 [==============================] - 182s 87ms/step - loss: 5.7393e-04 - val_loss: 7.3996e-05\n",
      "\n",
      "Epoch 00066: val_loss did not improve from 0.00005\n",
      "Epoch 67/200\n",
      "2078/2078 [==============================] - 182s 87ms/step - loss: 5.6283e-04 - val_loss: 2.4801e-04\n",
      "\n",
      "Epoch 00067: val_loss did not improve from 0.00005\n",
      "Epoch 68/200\n",
      "2078/2078 [==============================] - 181s 87ms/step - loss: 5.6941e-04 - val_loss: 5.0317e-04\n",
      "\n",
      "Epoch 00068: val_loss did not improve from 0.00005\n",
      "Epoch 69/200\n",
      "2078/2078 [==============================] - 181s 87ms/step - loss: 5.6628e-04 - val_loss: 0.0010\n",
      "\n",
      "Epoch 00069: val_loss did not improve from 0.00005\n",
      "Epoch 70/200\n",
      "2078/2078 [==============================] - 182s 87ms/step - loss: 5.6464e-04 - val_loss: 2.4965e-04\n",
      "\n",
      "Epoch 00070: val_loss did not improve from 0.00005\n",
      "Epoch 71/200\n",
      "2078/2078 [==============================] - 174s 84ms/step - loss: 5.6546e-04 - val_loss: 4.5994e-04\n",
      "\n",
      "Epoch 00071: val_loss did not improve from 0.00005\n",
      "Epoch 72/200\n",
      "2078/2078 [==============================] - 174s 84ms/step - loss: 5.6912e-04 - val_loss: 4.8881e-04\n",
      "\n",
      "Epoch 00072: val_loss did not improve from 0.00005\n",
      "Epoch 73/200\n",
      "2078/2078 [==============================] - 174s 84ms/step - loss: 5.7557e-04 - val_loss: 1.9499e-04\n",
      "\n",
      "Epoch 00073: val_loss did not improve from 0.00005\n",
      "Epoch 74/200\n",
      "2078/2078 [==============================] - 174s 84ms/step - loss: 5.6442e-04 - val_loss: 1.7089e-04\n",
      "\n",
      "Epoch 00074: val_loss did not improve from 0.00005\n",
      "Epoch 75/200\n",
      "2078/2078 [==============================] - 174s 84ms/step - loss: 5.6707e-04 - val_loss: 1.2940e-04\n",
      "\n",
      "Epoch 00075: val_loss did not improve from 0.00005\n",
      "Epoch 76/200\n",
      "2078/2078 [==============================] - 174s 84ms/step - loss: 5.7363e-04 - val_loss: 1.5640e-04\n",
      "\n",
      "Epoch 00076: val_loss did not improve from 0.00005\n",
      "Epoch 77/200\n",
      "2078/2078 [==============================] - 174s 84ms/step - loss: 5.7125e-04 - val_loss: 8.4131e-05\n",
      "\n",
      "Epoch 00077: val_loss did not improve from 0.00005\n",
      "Epoch 00077: early stopping\n",
      "646/646 [==============================] - 11s 17ms/step - loss: 0.0054\n"
     ]
    },
    {
     "data": {
      "text/plain": [
       "0.005448999349027872"
      ]
     },
     "execution_count": 85,
     "metadata": {},
     "output_type": "execute_result"
    }
   ],
   "source": [
    "input_shape = X_train.shape[1:]\n",
    "\n",
    "model = build_model(\n",
    "    input_shape,\n",
    "    head_size=256,\n",
    "    num_heads=4,\n",
    "    ff_dim=4,\n",
    "    num_transformer_blocks=4,\n",
    "    mlp_units=[128],\n",
    "    mlp_dropout=0.4,\n",
    "    dropout=0.25,\n",
    ")\n",
    "\n",
    "model.compile(\n",
    "    loss=\"mean_squared_error\",\n",
    "    optimizer=keras.optimizers.Adam(learning_rate=1e-4)\n",
    ")\n",
    "#model.summary()\n",
    "\n",
    "callbacks = tf.keras.callbacks.ModelCheckpoint('Transformers', \n",
    "                                              monitor='val_loss', \n",
    "                                              save_best_only=True, verbose=1)\n",
    "early_stop = EarlyStopping(monitor='loss', patience=10, verbose=1)\n",
    "\n",
    "model.fit(\n",
    "    X_train,\n",
    "    y_train,\n",
    "    validation_split=0.2,\n",
    "    epochs=200,\n",
    "    batch_size=64,\n",
    "    callbacks=[callbacks,early_stop]\n",
    ")\n",
    "\n",
    "model.evaluate(X_test, y_test, verbose=1)"
   ]
  },
  {
   "cell_type": "code",
   "execution_count": 87,
   "id": "69c4de8c",
   "metadata": {},
   "outputs": [
    {
     "data": {
      "text/plain": [
       "<matplotlib.legend.Legend at 0x1d3e1d925c0>"
      ]
     },
     "execution_count": 87,
     "metadata": {},
     "output_type": "execute_result"
    },
    {
     "data": {
      "image/png": "[encoded data removed]",
      "text/plain": [
       "<Figure size 1080x1440 with 3 Axes>"
      ]
     },
     "metadata": {},
     "output_type": "display_data"
    }
   ],
   "source": [
    "model = tf.keras.models.load_model(\"Transformers\")\n",
    "train_pred = model.predict(X_train)\n",
    "val_pred = model.predict(X_val)\n",
    "test_pred = model.predict(X_test)\n",
    "\n",
    "#Print evaluation metrics for all datasets\n",
    "train_eval = model.evaluate(X_train, y_train, verbose=0)\n",
    "val_eval = model.evaluate(X_val, y_val, verbose=0)\n",
    "test_eval = model.evaluate(X_test, y_test, verbose=0)\n",
    "'''\n",
    "print(' ')\n",
    "print('Evaluation metrics')\n",
    "print('Training Data - Loss: {:.4f}, MAE: {:.4f}, MAPE: {:.4f}'.format(train_eval[0], train_eval[1], train_eval[2]))\n",
    "print('Validation Data - Loss: {:.4f}, MAE: {:.4f}, MAPE: {:.4f}'.format(val_eval[0], val_eval[1], val_eval[2]))\n",
    "print('Test Data - Loss: {:.4f}, MAE: {:.4f}, MAPE: {:.4f}'.format(test_eval[0], test_eval[1], test_eval[2]))\n",
    "\n",
    "'''\n",
    "\n",
    "###############################################################################\n",
    "'''Display results'''\n",
    "\n",
    "fig = plt.figure(figsize=(15,20))\n",
    "st = fig.suptitle(\"Transformer + TimeEmbedding Model\", fontsize=22)\n",
    "st.set_y(0.92)\n",
    "\n",
    "#Plot training data results\n",
    "ax11 = fig.add_subplot(311)\n",
    "ax11.plot(train_data[:, 0], label='AAPL Closing Returns')\n",
    "ax11.plot(np.arange(seq_len, train_pred.shape[0]+seq_len), train_pred, linewidth=3, label='Predicted AAPL Closing Returns')\n",
    "ax11.set_title(\"Training Data\", fontsize=18)\n",
    "ax11.set_xlabel('Date')\n",
    "ax11.set_ylabel('AAPL Closing Returns')\n",
    "ax11.legend(loc=\"best\", fontsize=12)\n",
    "\n",
    "#Plot validation data results\n",
    "ax21 = fig.add_subplot(312)\n",
    "ax21.plot(val_data[:, 0], label='AAPL Closing Returns')\n",
    "ax21.plot(np.arange(seq_len, val_pred.shape[0]+seq_len), val_pred, linewidth=3, label='Predicted AAPL Closing Returns')\n",
    "ax21.set_title(\"Validation Data\", fontsize=18)\n",
    "ax21.set_xlabel('Date')\n",
    "ax21.set_ylabel('AAPL Closing Returns')\n",
    "ax21.legend(loc=\"best\", fontsize=12)\n",
    "\n",
    "#Plot test data results\n",
    "ax31 = fig.add_subplot(313)\n",
    "ax31.plot(test_data[:, 0], label='AAPL Closing Returns')\n",
    "ax31.plot(np.arange(seq_len, test_pred.shape[0]+seq_len), test_pred, linewidth=3, label='Predicted AAPL Closing Returns')\n",
    "ax31.set_title(\"Test Data\", fontsize=18)\n",
    "ax31.set_xlabel('Date')\n",
    "ax31.set_ylabel('AAPL Closing Returns')\n",
    "ax31.legend(loc=\"best\", fontsize=12)"
   ]
  },
  {
   "cell_type": "code",
   "execution_count": 26,
   "id": "44ee1aa9",
   "metadata": {},
   "outputs": [
    {
     "data": {
      "text/plain": [
       "(array([[0.6807565],\n",
       "        [0.6807565],\n",
       "        [0.6807565],\n",
       "        ...,\n",
       "        [0.6807565],\n",
       "        [0.6807565],\n",
       "        [0.6807565]], dtype=float32),\n",
       " array([0.6809115 , 0.68073443, 0.68073563, ..., 0.6804784 , 0.68105861,\n",
       "        0.68104562]))"
      ]
     },
     "execution_count": 26,
     "metadata": {},
     "output_type": "execute_result"
    }
   ],
   "source": [
    "val_pred,y_val"
   ]
  },
  {
   "cell_type": "code",
   "execution_count": null,
   "id": "43e8cf1c",
   "metadata": {},
   "outputs": [],
   "source": [
    "model = tf.keras.models.load_model('Transformer+TimeEmbedding.hdf5',\n",
    "                                   custom_objects={'Time2Vector': Time2Vector, \n",
    "                                                   'SingleAttention': SingleAttention,\n",
    "                                                   'MultiAttention': MultiAttention,\n",
    "                                                   'TransformerEncoder': TransformerEncoder})\n",
    "\n",
    "\n",
    "###############################################################################\n",
    "'''Calculate predictions and metrics'''\n",
    "\n",
    "#Calculate predication for training, validation and test data\n",
    "train_pred = model.predict(X_train)\n",
    "val_pred = model.predict(X_val)\n",
    "test_pred = model.predict(X_test)\n",
    "\n",
    "#Print evaluation metrics for all datasets\n",
    "train_eval = model.evaluate(X_train, y_train, verbose=0)\n",
    "val_eval = model.evaluate(X_val, y_val, verbose=0)\n",
    "test_eval = model.evaluate(X_test, y_test, verbose=0)\n",
    "print(' ')\n",
    "print('Evaluation metrics')\n",
    "print('Training Data - Loss: {:.4f}, MAE: {:.4f}, MAPE: {:.4f}'.format(train_eval[0], train_eval[1], train_eval[2]))\n",
    "print('Validation Data - Loss: {:.4f}, MAE: {:.4f}, MAPE: {:.4f}'.format(val_eval[0], val_eval[1], val_eval[2]))\n",
    "print('Test Data - Loss: {:.4f}, MAE: {:.4f}, MAPE: {:.4f}'.format(test_eval[0], test_eval[1], test_eval[2]))\n",
    "\n",
    "###############################################################################\n",
    "'''Display results'''\n",
    "\n",
    "fig = plt.figure(figsize=(15,20))\n",
    "st = fig.suptitle(\"Transformer + TimeEmbedding Model\", fontsize=22)\n",
    "st.set_y(0.92)\n",
    "\n",
    "#Plot training data results\n",
    "ax11 = fig.add_subplot(311)\n",
    "ax11.plot(train_data[:, 3], label='AAPL Closing Returns')\n",
    "ax11.plot(np.arange(seq_len, train_pred.shape[0]+seq_len), train_pred, linewidth=3, label='Predicted AAPL Closing Returns')\n",
    "ax11.set_title(\"Training Data\", fontsize=18)\n",
    "ax11.set_xlabel('Date')\n",
    "ax11.set_ylabel('AAPL Closing Returns')\n",
    "ax11.legend(loc=\"best\", fontsize=12)\n",
    "\n",
    "#Plot validation data results\n",
    "ax21 = fig.add_subplot(312)\n",
    "ax21.plot(val_data[:, 3], label='AAPL Closing Returns')\n",
    "ax21.plot(np.arange(seq_len, val_pred.shape[0]+seq_len), val_pred, linewidth=3, label='Predicted AAPL Closing Returns')\n",
    "ax21.set_title(\"Validation Data\", fontsize=18)\n",
    "ax21.set_xlabel('Date')\n",
    "ax21.set_ylabel('AAPL Closing Returns')\n",
    "ax21.legend(loc=\"best\", fontsize=12)\n",
    "\n",
    "#Plot test data results\n",
    "ax31 = fig.add_subplot(313)\n",
    "ax31.plot(test_data[:, 3], label='AAPL Closing Returns')\n",
    "ax31.plot(np.arange(seq_len, test_pred.shape[0]+seq_len), test_pred, linewidth=3, label='Predicted AAPL Closing Returns')\n",
    "ax31.set_title(\"Test Data\", fontsize=18)\n",
    "ax31.set_xlabel('Date')\n",
    "ax31.set_ylabel('AAPL Closing Returns')\n",
    "ax31.legend(loc=\"best\", fontsize=12)"
   ]
  }
 ],
 "metadata": {
  "kernelspec": {
   "display_name": "Python 3 (ipykernel)",
   "language": "python",
   "name": "python3"
  },
  "language_info": {
   "codemirror_mode": {
    "name": "ipython",
    "version": 3
   },
   "file_extension": ".py",
   "mimetype": "text/x-python",
   "name": "python",
   "nbconvert_exporter": "python",
   "pygments_lexer": "ipython3",
   "version": "3.9.7"
  }
 },
 "nbformat": 4,
 "nbformat_minor": 5
}
